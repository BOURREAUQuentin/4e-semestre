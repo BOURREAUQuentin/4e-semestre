{
 "cells": [
  {
   "cell_type": "markdown",
   "id": "0e89b5c8",
   "metadata": {},
   "source": [
    "# Classer avec la méthode des k-Plus Proches Voisins"
   ]
  },
  {
   "cell_type": "markdown",
   "id": "0ef48153",
   "metadata": {},
   "source": [
    "Dans ce TP nous allons implémenter notre première Intelligence Artificielle à partir de la méthode des k-Plus Proches Voisins étudiée en TD. Nous allons implémenter, tester, évaluer et étudier cette méthode de classification sur un jeu de données réelles."
   ]
  },
  {
   "cell_type": "markdown",
   "id": "654024ae",
   "metadata": {},
   "source": [
    "## A. Charger, explorer puis préparer le tableau de données"
   ]
  },
  {
   "cell_type": "markdown",
   "id": "10531ce6",
   "metadata": {},
   "source": [
    "Commencez par importer dans un Dataframe `zoo` les données du fichier `zoo.csv`."
   ]
  },
  {
   "cell_type": "code",
   "execution_count": 31,
   "id": "ff2955e4",
   "metadata": {
    "scrolled": true
   },
   "outputs": [],
   "source": [
    "import pandas as pd\n",
    "zoo = pd.read_csv(\"./donnees/zoo.csv\")"
   ]
  },
  {
   "cell_type": "markdown",
   "id": "da85323a",
   "metadata": {},
   "source": [
    "Explorez le dataset `zoo`: Combien d'individus? Combien de descripteurs? Quelle est la nature (type) des descripteurs? Y-a-t'il des valeurs manquantes?"
   ]
  },
  {
   "cell_type": "code",
   "execution_count": 32,
   "id": "2063c96e",
   "metadata": {},
   "outputs": [
    {
     "name": "stdout",
     "output_type": "stream",
     "text": [
      "(100, 18)\n"
     ]
    }
   ],
   "source": [
    "print(zoo.shape)"
   ]
  },
  {
   "cell_type": "markdown",
   "id": "1106c329",
   "metadata": {},
   "source": [
    "Dans ce dataset, la dernière colonne `type` correspond à la catégorie de l'animal :\n",
    "|  Type  |    Catégorie    |\n",
    "| :---------:|---------|\n",
    "| 1 |Mammifères|\n",
    "| 2 |Oiseaux|\n",
    "| 3 |Reptiles|\n",
    "| 4 |Poissons|\n",
    "| 5 |Amphibiens|\n",
    "| 6 |Insectes|\n",
    "| 7 |Invertébrés|\n",
    "\n",
    "Notre IA devra prédire la catégorie d'un animal à partir de sa description (sans le `Name`). Il s'agit donc d'une tâche de prédiction à **7 classes**."
   ]
  },
  {
   "cell_type": "markdown",
   "id": "bf7f141e",
   "metadata": {},
   "source": [
    "Observez la distribution des individus selon la variable de classe (`type`) et constatez le déséquilibre des classes. Cela aura-t'il une incidence sur la méthode de k-PPV?"
   ]
  },
  {
   "cell_type": "code",
   "execution_count": 24,
   "id": "7f9a0e44",
   "metadata": {},
   "outputs": [
    {
     "data": {
      "image/png": "[encoded data removed]",
      "text/plain": [
       "<Figure size 432x288 with 1 Axes>"
      ]
     },
     "metadata": {},
     "output_type": "display_data"
    }
   ],
   "source": [
    "import matplotlib.pyplot as plt\n",
    "import numpy as np\n",
    "labels, sizes = np.unique(zoo['type'], return_counts=True)\n",
    "plt.pie(sizes, labels=labels)\n",
    "plt.show()"
   ]
  },
  {
   "cell_type": "markdown",
   "id": "3e79c8e8",
   "metadata": {},
   "source": [
    "A partir du dataframe `zoo`, vous allez construire deux tableaux Numpy :\n",
    "- `X` est la matrice (100x16) des descriptions des individus\n",
    "- `y` est le vecteur contenant les (100) catégories d'animaux "
   ]
  },
  {
   "cell_type": "code",
   "execution_count": 25,
   "id": "7155e66a",
   "metadata": {},
   "outputs": [
    {
     "name": "stdout",
     "output_type": "stream",
     "text": [
      "(100, 16)\n",
      "(100,)\n"
     ]
    }
   ],
   "source": [
    "#x = zoo[[\"hear\", \"feathers\", \"eggs\", \"milk\", \"airbone\", \"aquatic\", \"predator\", \"toothed\", \"backbone\", \"breathes\", \"venomous\", \"fins\", \"legs\", \"tail\", \"domestic\", \"size\"]]\n",
    "#y = zoo['type']\n",
    "#print(x.shape)\n",
    "#print(y.shape)\n",
    "\n",
    "x = np.array(zoo.iloc[:, 1 : -1])\n",
    "y = np.array(zoo.iloc[:, -1])\n",
    "print(x.shape)\n",
    "print(y.shape)"
   ]
  },
  {
   "cell_type": "markdown",
   "id": "c8169074",
   "metadata": {},
   "source": [
    "Nous allons à présent découper `X` et `y` en deux sous-ensembles :\n",
    "- `X_train` : qui contient des individus que la méthode k-PPV utilisera pour prédire\n",
    "- `X_test`  : qui contient des individus que nous utiliserons pour évaluer notre IA (et ainsi ajuster le paramètre k)\n",
    "- `y_train` : qui contient les labels des individus de `X_train`\n",
    "- `y_test`  : qui contient les labels des individus de `X_test`\n",
    "\n",
    "Ecrire une fonction (générique) `train_test_split(X, y, train_ratio)` qui réalise un tel découpage :"
   ]
  },
  {
   "cell_type": "code",
   "execution_count": 26,
   "id": "0187d83a",
   "metadata": {},
   "outputs": [],
   "source": [
    "def train_test_split(X, y, train_ratio):\n",
    "    \"\"\"découpe un dataset X en deux ensembles d'entraînement (train) et de test ainsi que les labels associés\n",
    "\n",
    "    Args:\n",
    "        X (matrice Numpy): le dataset à découper\n",
    "        y (vecteur Numpy): le vecteur des labels à découper\n",
    "        train_ratio (float): entre 0.0 et 1.0 = proportion du dataset à inclure dans l'ensemble d'entraînement (train)\n",
    "\n",
    "    Returns:\n",
    "        X_train (matrice Numpy): le sous-ensemble d'entraînement\n",
    "        X_test (matrice Numpy):  le sous-ensemble de test\n",
    "        y_train (vecteur Numpy): les labels données d'entraînement\n",
    "        y_test (vecteur Numpy):  les labels données de test\n",
    "\n",
    "    \"\"\"\n",
    "    n = X.shape[0]\n",
    "    if y.shape[0] != n:\n",
    "        return None\n",
    "    ids = np.arange(n)\n",
    "    np.random.shuffle(ids)\n",
    "    nbre_train = int(n * train_ratio)\n",
    "    ids_train, ids_test = ids[:nbre_train], ids[nbre_train:]\n",
    "    return X[ids_train, :], X[ids_test, :], y[ids_train], y[ids_test]"
   ]
  },
  {
   "cell_type": "markdown",
   "id": "834cfd92",
   "metadata": {},
   "source": [
    "Utilisez votre fonction pour découper notre dataset `X` en deux sous-ensembles de mêmes tailles.\n",
    "\n",
    "Vérifiez que les déséquilibres des classes sont globalement respectés (relancez le découpage si certaines classes sont absentes dans l'un des deux sous-ensembles)."
   ]
  },
  {
   "cell_type": "code",
   "execution_count": 27,
   "id": "3d42b684",
   "metadata": {},
   "outputs": [
    {
     "name": "stdout",
     "output_type": "stream",
     "text": [
      "(70, 16)\n",
      "(30, 16)\n",
      "(70,)\n",
      "(30,)\n"
     ]
    }
   ],
   "source": [
    "X_train, X_test, y_train, y_test = train_test_split(x, y, 0.7)\n",
    "print(X_train.shape)\n",
    "print(X_test.shape)\n",
    "print(y_train.shape)\n",
    "print(y_test.shape)"
   ]
  },
  {
   "cell_type": "markdown",
   "id": "71997f89",
   "metadata": {},
   "source": [
    "---"
   ]
  },
  {
   "cell_type": "markdown",
   "id": "9e305b1d",
   "metadata": {},
   "source": [
    "## B. Implémenter et évaluer la méthode k-PPV (non-pondérée)"
   ]
  },
  {
   "cell_type": "markdown",
   "id": "66c18c2e",
   "metadata": {},
   "source": [
    "Définissez une fonction `predict_kNN(k, X, y, x_new)` qui prédit la classe d'une description `x_new` par la méthodes k-PPV non-pondérée utilisée sur les données `X` de ayant pour labels `y` avec la distance Euclidienne."
   ]
  },
  {
   "cell_type": "code",
   "execution_count": 37,
   "id": "fcf443e8",
   "metadata": {},
   "outputs": [],
   "source": [
    "def predict_kNN(k, X, y, x_new):\n",
    "    \"\"\"implémente le classifieur du k-Plus Proches Voisins \n",
    "\n",
    "    Args:\n",
    "        k (int): nombre de voisins à utiliser pour prédire\n",
    "        X (matrice Numpy): le dataset des données d'entraînement\n",
    "        y (vecteur Numpy): le vecteur des labels des données d'entraînement\n",
    "        x_new (vecteur Numpy) : le vecteur de description d'une nouvelle donnée à classer\n",
    "\n",
    "    Returns:\n",
    "        y_new (label):  le label prédit\n",
    "\n",
    "    \"\"\"\n",
    "    distance = np.linalg.norm(X-x_new, axis=1)\n",
    "    ids_proches_voisins = np.argsort(distance)[:k]\n",
    "    class_proches_voisins = y[ids_proches_voisins]\n",
    "    labels, counts = np.unique(class_proches_voisins, return_counts=True)\n",
    "    return labels[counts.argsort()[-1]]"
   ]
  },
  {
   "cell_type": "markdown",
   "id": "457fb490",
   "metadata": {},
   "source": [
    "Utilisez la fonction `predict_kNN` pour prédire la classe de l'individu situé à l'indice 23 dans `X_test` à partir des données d'entraînement (`X_train`, `y_train`). Affichez la classe prédite selon différentes valeurs de `k` et comparez avec la vraie classe de l'individu (`y_test[23]`). "
   ]
  },
  {
   "cell_type": "code",
   "execution_count": null,
   "id": "92876e7c",
   "metadata": {},
   "outputs": [],
   "source": []
  },
  {
   "cell_type": "markdown",
   "id": "2e3838f7",
   "metadata": {},
   "source": [
    "Définissez une fonction `error_kNN(k, X_train, y_train, X_test, y_test)` qui renvoie le taux d'erreur de prédiction de la méthode k-PPV sur des données de test. "
   ]
  },
  {
   "cell_type": "code",
   "execution_count": 38,
   "id": "708c13e3",
   "metadata": {},
   "outputs": [],
   "source": [
    "def error_kNN(k, X_train, y_train, X_test, y_test):\n",
    "    \"\"\"calcule le taux d'erreur de prédiction par k-PPV sur les données de test \n",
    "\n",
    "    Args:\n",
    "        k (int): nombre de voisins à utiliser pour prédire\n",
    "        X_train (matrice Numpy): le dataset des données d'entraînement\n",
    "        y_train (vecteur Numpy): le vecteur des labels des données d'entraînement\n",
    "        X_test (vecteur Numpy) : le dataset des données de test\n",
    "        y_test (vecteur Numpy): le vecteur des labels des données de test\n",
    "\n",
    "\n",
    "    Returns:\n",
    "        error_rate (float):  le taux d'erreur de prédiciton (Nb. mauvaises prédictions / Nb. prédictions)\n",
    "\n",
    "    \"\"\"\n",
    "    prediction = [predict_kNN(k, X_train, y_train, X_test[i, :]) for i in range(y_test.size)]\n",
    "    return 1 - sum(prediction == y_test) / y_test.size"
   ]
  },
  {
   "cell_type": "markdown",
   "id": "681e0848",
   "metadata": {},
   "source": [
    "Tracez la courbe du taux d'erreur en fonction du paramètre `k`. Quelle valeur choisirez-vous pour `k`? Est-ce que votre classifieur vous semble performant?"
   ]
  },
  {
   "cell_type": "code",
   "execution_count": 42,
   "id": "4fcc8116",
   "metadata": {},
   "outputs": [
    {
     "name": "stdout",
     "output_type": "stream",
     "text": [
      "0.6\n"
     ]
    },
    {
     "ename": "TypeError",
     "evalue": "error_kNN() missing 1 required positional argument: 'y_test'",
     "output_type": "error",
     "traceback": [
      "\u001b[0;31m---------------------------------------------------------------------------\u001b[0m",
      "\u001b[0;31mTypeError\u001b[0m                                 Traceback (most recent call last)",
      "\u001b[0;32m/tmp/ipykernel_10920/279620923.py\u001b[0m in \u001b[0;36m<module>\u001b[0;34m\u001b[0m\n\u001b[1;32m      1\u001b[0m \u001b[0mprint\u001b[0m\u001b[0;34m(\u001b[0m\u001b[0merror_kNN\u001b[0m\u001b[0;34m(\u001b[0m\u001b[0;36m3\u001b[0m\u001b[0;34m,\u001b[0m \u001b[0mX_train\u001b[0m\u001b[0;34m,\u001b[0m \u001b[0my_train\u001b[0m\u001b[0;34m,\u001b[0m \u001b[0mX_test\u001b[0m\u001b[0;34m,\u001b[0m \u001b[0my_test\u001b[0m\u001b[0;34m)\u001b[0m\u001b[0;34m)\u001b[0m\u001b[0;34m\u001b[0m\u001b[0;34m\u001b[0m\u001b[0m\n\u001b[0;32m----> 2\u001b[0;31m \u001b[0mplt\u001b[0m\u001b[0;34m.\u001b[0m\u001b[0mplot\u001b[0m\u001b[0;34m(\u001b[0m\u001b[0;34m[\u001b[0m\u001b[0merror_kNN\u001b[0m\u001b[0;34m(\u001b[0m\u001b[0mi\u001b[0m\u001b[0;34m,\u001b[0m \u001b[0mX_train\u001b[0m\u001b[0;34m,\u001b[0m \u001b[0my_train\u001b[0m\u001b[0;34m,\u001b[0m \u001b[0mX_test\u001b[0m\u001b[0;34m[\u001b[0m\u001b[0mi\u001b[0m\u001b[0;34m,\u001b[0m \u001b[0;34m:\u001b[0m\u001b[0;34m]\u001b[0m\u001b[0;34m)\u001b[0m \u001b[0;32mfor\u001b[0m \u001b[0mi\u001b[0m \u001b[0;32min\u001b[0m \u001b[0mrange\u001b[0m\u001b[0;34m(\u001b[0m\u001b[0;36m50\u001b[0m\u001b[0;34m)\u001b[0m\u001b[0;34m]\u001b[0m\u001b[0;34m)\u001b[0m\u001b[0;34m\u001b[0m\u001b[0;34m\u001b[0m\u001b[0m\n\u001b[0m\u001b[1;32m      3\u001b[0m \u001b[0mplt\u001b[0m\u001b[0;34m.\u001b[0m\u001b[0mshow\u001b[0m\u001b[0;34m(\u001b[0m\u001b[0;34m)\u001b[0m\u001b[0;34m\u001b[0m\u001b[0;34m\u001b[0m\u001b[0m\n",
      "\u001b[0;32m/tmp/ipykernel_10920/279620923.py\u001b[0m in \u001b[0;36m<listcomp>\u001b[0;34m(.0)\u001b[0m\n\u001b[1;32m      1\u001b[0m \u001b[0mprint\u001b[0m\u001b[0;34m(\u001b[0m\u001b[0merror_kNN\u001b[0m\u001b[0;34m(\u001b[0m\u001b[0;36m3\u001b[0m\u001b[0;34m,\u001b[0m \u001b[0mX_train\u001b[0m\u001b[0;34m,\u001b[0m \u001b[0my_train\u001b[0m\u001b[0;34m,\u001b[0m \u001b[0mX_test\u001b[0m\u001b[0;34m,\u001b[0m \u001b[0my_test\u001b[0m\u001b[0;34m)\u001b[0m\u001b[0;34m)\u001b[0m\u001b[0;34m\u001b[0m\u001b[0;34m\u001b[0m\u001b[0m\n\u001b[0;32m----> 2\u001b[0;31m \u001b[0mplt\u001b[0m\u001b[0;34m.\u001b[0m\u001b[0mplot\u001b[0m\u001b[0;34m(\u001b[0m\u001b[0;34m[\u001b[0m\u001b[0merror_kNN\u001b[0m\u001b[0;34m(\u001b[0m\u001b[0mi\u001b[0m\u001b[0;34m,\u001b[0m \u001b[0mX_train\u001b[0m\u001b[0;34m,\u001b[0m \u001b[0my_train\u001b[0m\u001b[0;34m,\u001b[0m \u001b[0mX_test\u001b[0m\u001b[0;34m[\u001b[0m\u001b[0mi\u001b[0m\u001b[0;34m,\u001b[0m \u001b[0;34m:\u001b[0m\u001b[0;34m]\u001b[0m\u001b[0;34m)\u001b[0m \u001b[0;32mfor\u001b[0m \u001b[0mi\u001b[0m \u001b[0;32min\u001b[0m \u001b[0mrange\u001b[0m\u001b[0;34m(\u001b[0m\u001b[0;36m50\u001b[0m\u001b[0;34m)\u001b[0m\u001b[0;34m]\u001b[0m\u001b[0;34m)\u001b[0m\u001b[0;34m\u001b[0m\u001b[0;34m\u001b[0m\u001b[0m\n\u001b[0m\u001b[1;32m      3\u001b[0m \u001b[0mplt\u001b[0m\u001b[0;34m.\u001b[0m\u001b[0mshow\u001b[0m\u001b[0;34m(\u001b[0m\u001b[0;34m)\u001b[0m\u001b[0;34m\u001b[0m\u001b[0;34m\u001b[0m\u001b[0m\n",
      "\u001b[0;31mTypeError\u001b[0m: error_kNN() missing 1 required positional argument: 'y_test'"
     ]
    }
   ],
   "source": [
    "plt.plot([error_kNN(i, X_train, y_train, X_test, y_test) for i in range(50)])\n",
    "plt.show()"
   ]
  },
  {
   "cell_type": "markdown",
   "id": "02e15347",
   "metadata": {},
   "source": [
    "Avant de conclure (trop vite!)... quel serait le taux d'erreur d'un classifieur k-PPV qui fonderait ses prédictions sur la taille des animaux uniquement (descripteur `size`)?"
   ]
  },
  {
   "cell_type": "code",
   "execution_count": null,
   "id": "cafdfe3d",
   "metadata": {},
   "outputs": [],
   "source": []
  },
  {
   "cell_type": "markdown",
   "id": "ecbafa59",
   "metadata": {},
   "source": [
    "## C. Normaliser les données"
   ]
  },
  {
   "cell_type": "markdown",
   "id": "a9d9d581",
   "metadata": {},
   "source": [
    "Vous avez constaté que tous les descriteurs n'ont pas la même influence dans le calcul des distances entre individus, du fait de l'amplitude des valeurs associée à chaque descripteurs.\n",
    "\n",
    "Pour faire en sorte que chaque descripteur ait la même influence dans le traitement du tableau de données, on procède à une **normalisation** des données. \n",
    "\n",
    "> Normaliser un ensemble $Z$ consiste à ramener toutes ses valeurs dans l'intervalle $[0,1]$ par l'opération : $$\\tilde{z}_{i}=\\frac{z_{i}-min_Z}{max_Z-min_Z}$$\n",
    ">"
   ]
  },
  {
   "cell_type": "markdown",
   "id": "dc43420a",
   "metadata": {},
   "source": [
    "Complétez la classe `Normalizer` ci-dessous qui définit un **outil** de normalisation d'un jeu de données. La normalisation d'un jeu de données procédera en deux temps :\n",
    "- calcul des paramètres de la fonction de normalisation sur des données (méthode `.fit()`)\n",
    "- application de la fonction de normalisation sur des données (méthode `.transform()`)"
   ]
  },
  {
   "cell_type": "code",
   "execution_count": null,
   "id": "04d0a423",
   "metadata": {},
   "outputs": [],
   "source": [
    "class Normalizer:\n",
    "    \n",
    "    min = None\n",
    "    max = None\n",
    "    \n",
    "    def fit(self, X):\n",
    "        \"\"\"calcule les min et max de chaque colonne de X\"\"\"\n",
    "        ...\n",
    "    \n",
    "    def transform(self, X):\n",
    "        \"\"\"renvoie X normalisé\"\"\"\n",
    "        ...\n",
    "        "
   ]
  },
  {
   "cell_type": "markdown",
   "id": "94e0bceb",
   "metadata": {},
   "source": [
    "Appliquez la normalisation sur l'ensemble des individus (100 descriptions) puis comparez l'erreur faite par la méthode des k-PPV avant et après normalisation. Concluez sur l'utilité de cette étape de normalisation."
   ]
  },
  {
   "cell_type": "code",
   "execution_count": null,
   "id": "65bcbbcc",
   "metadata": {},
   "outputs": [],
   "source": []
  },
  {
   "cell_type": "markdown",
   "id": "44f2c3b9",
   "metadata": {},
   "source": [
    "## D. Implémenter et évaluer la méthode k-PPV pondérée"
   ]
  },
  {
   "cell_type": "markdown",
   "id": "e102f2b6",
   "metadata": {},
   "source": [
    "Implémentez la variante pondérée de la méthode k-PPV dans une version généralisée de la fonction `predict_kNN(k, X, y, x_new, weights)`"
   ]
  },
  {
   "cell_type": "code",
   "execution_count": null,
   "id": "9dd119bd",
   "metadata": {},
   "outputs": [],
   "source": [
    "def predict_kNN(k, X, y, x_new, weights='uniform'):\n",
    "    \"\"\"implémente le classifieur du k-Plus Proches Voisins \n",
    "\n",
    "    Args:\n",
    "        k (int): nombre de voisins à utiliser pour prédire\n",
    "        X (matrice Numpy): le dataset des données d'entraînement\n",
    "        y (vecteur Numpy): le vecteur des labels des données d'entraînement\n",
    "        x_new (vecteur Numpy) : le vecteur de description d'une nouvelle donnée à classer\n",
    "        weights ('uniform', 'distance') : méthode de pondération utilisée pour la prédiction\n",
    "\n",
    "    Returns:\n",
    "        y_new (label):  le label prédit\n",
    "\n",
    "    \"\"\"\n",
    "    ..."
   ]
  },
  {
   "cell_type": "markdown",
   "id": "e2d64239",
   "metadata": {},
   "source": [
    "Généralisez également la fonction d'évaluation `error_kNN(k, X_train, y_train, X_test, y_test, weights)` avec l'argument supplémentaire `weights`"
   ]
  },
  {
   "cell_type": "code",
   "execution_count": null,
   "id": "092161c6",
   "metadata": {},
   "outputs": [],
   "source": [
    "def error_kNN(k, X_train, y_train, X_test, y_test, weights='uniform'):\n",
    "    \"\"\"calcule le taux d'erreur de prédiction par k-PPV sur les données de test \n",
    "\n",
    "    Args:\n",
    "        k (int): nombre de voisins à utiliser pour prédire\n",
    "        X_train (matrice Numpy): le dataset des données d'entraînement\n",
    "        y_train (vecteur Numpy): le vecteur des labels des données d'entraînement\n",
    "        X_test (vecteur Numpy) : le dataset des données de test\n",
    "        y_test (vecteur Numpy): le vecteur des labels des données de test\n",
    "        weights ('uniform', 'distance') : méthode de pondération utilisée dans k-PPV\n",
    "\n",
    "\n",
    "    Returns:\n",
    "        error_rate (float):  le taux d'erreur de prédiciton (Nb. mauvaises prédictions / Nb. prédictions)\n",
    "\n",
    "    \"\"\"\n",
    "    ..."
   ]
  },
  {
   "cell_type": "markdown",
   "id": "8d030161",
   "metadata": {},
   "source": [
    "Enfin, comparez l'erreur faite par chacune des deux versions de la méthode k-PPV (pondérée ou non)."
   ]
  },
  {
   "cell_type": "code",
   "execution_count": null,
   "id": "ea833347",
   "metadata": {},
   "outputs": [],
   "source": []
  }
 ],
 "metadata": {
  "kernelspec": {
   "display_name": "Python 3 (ipykernel)",
   "language": "python",
   "name": "python3"
  },
  "language_info": {
   "codemirror_mode": {
    "name": "ipython",
    "version": 3
   },
   "file_extension": ".py",
   "mimetype": "text/x-python",
   "name": "python",
   "nbconvert_exporter": "python",
   "pygments_lexer": "ipython3",
   "version": "3.10.12"
  },
  "vscode": {
   "interpreter": {
    "hash": "aee8b7b246df8f9039afb4144a1f6fd8d2ca17a180786b69acc140d282b71a49"
   }
  }
 },
 "nbformat": 4,
 "nbformat_minor": 5
}
