{
 "cells": [
  {
   "cell_type": "markdown",
   "id": "0e89b5c8",
   "metadata": {},
   "source": [
    "# Introduction à la librairie Pandas"
   ]
  },
  {
   "cell_type": "markdown",
   "id": "b959a29f",
   "metadata": {},
   "source": [
    "## A. Charger, importer, observer un tableau de données"
   ]
  },
  {
   "cell_type": "markdown",
   "id": "06479ed5",
   "metadata": {},
   "source": [
    "[Pandas](https://pandas.pydata.org/docs/) est une librairie incontournable pour le traitement de tableaux de données en Python. Elle s'appuie principalement sur une nouvelle structure de données : le **<font color='red'>Dataframe</font>**!\n",
    "\n",
    "Un Dataframe est un tableau :\n",
    "- à *deux dimensions*,\n",
    "- dont chaque ligne contient la description d'un *individu*\n",
    "- dont chaque colonne correspond à un *descripteur* (on parlera aussi d'*attribut* ou *variable*)\n",
    "- dont le type des données peut être différent d'une colonne à une autre (même type pour un même descripteur), **<font color='red'>$\\Rightarrow$ différent d'un tableau NumPy</font>**\n",
    "- possédant un index pour chaque axe (ligne et colonne)\n",
    "\n",
    "On commencera par importer la librairie Pandas avec l'alias `pd` par convention : "
   ]
  },
  {
   "cell_type": "code",
   "execution_count": 2,
   "id": "e05c87a7",
   "metadata": {},
   "outputs": [
    {
     "name": "stderr",
     "output_type": "stream",
     "text": [
      "/tmp/ipykernel_6627/4080736814.py:1: DeprecationWarning: \n",
      "Pyarrow will become a required dependency of pandas in the next major release of pandas (pandas 3.0),\n",
      "(to allow more performant data types, such as the Arrow string type, and better interoperability with other libraries)\n",
      "but was not found to be installed on your system.\n",
      "If this would cause problems for you,\n",
      "please provide us feedback at https://github.com/pandas-dev/pandas/issues/54466\n",
      "        \n",
      "  import pandas as pd\n"
     ]
    }
   ],
   "source": [
    "import pandas as pd"
   ]
  },
  {
   "cell_type": "markdown",
   "id": "730e3504",
   "metadata": {},
   "source": [
    "NB. Il vous faudra peut-être au préalable installer la librairie sur votre machine : `pip install Pandas`"
   ]
  },
  {
   "cell_type": "markdown",
   "id": "f5dbfdb3",
   "metadata": {},
   "source": [
    "Fini l'écriture de fonctions pour lire un fichier tablulaire (type .csv), Pandas définit des constructeurs de Dataframe directement à partir de tels fichiers : `pd.read_csv(`*nom_fichier*`)`, `pd.read_table(`*nom_fichier*`)`, `pd.read_excel(`*nom_fichier*`)`, etc. A vous de modifier éventuellement le paramétrage par défaut afin de vous conformer à la structure du fichier."
   ]
  },
  {
   "cell_type": "code",
   "execution_count": 3,
   "id": "290c651f",
   "metadata": {},
   "outputs": [],
   "source": [
    "df = pd.read_csv('donnees/sommeil.csv')  # paramétrage par défaut"
   ]
  },
  {
   "cell_type": "markdown",
   "id": "b1829245",
   "metadata": {},
   "source": [
    "Quelques attributs utiles pour vérifier la *structure* de notre Dataframe `df`:\n",
    "\n",
    "- `df.shape`: la forme du tableau (nb. lignes, nb. colonnes)\n",
    "- `df.dtypes`: les types de données stockées dans chaque colonne du tableau\n",
    "- `df.index`: l'index utilisé pour les lignes du tableau (par défaut les entiers 0, 1, 2, ...)\n",
    "- `df.columns`: le nom (index) des colonnes du tableau (par défaut les en-têtes du fichier initial)\n",
    "\n",
    "Affichez les (valeurs des) attributs de notre Dataframe `df`:\n"
   ]
  },
  {
   "cell_type": "code",
   "execution_count": 4,
   "id": "099154ae",
   "metadata": {},
   "outputs": [
    {
     "name": "stdout",
     "output_type": "stream",
     "text": [
      "(62, 11)\n",
      "Species            object\n",
      "Body.Weight       float64\n",
      "Brain.Weight      float64\n",
      "Non.Dreaming      float64\n",
      "Dreaming          float64\n",
      "Sleep             float64\n",
      "Lifespan          float64\n",
      "Gestation         float64\n",
      "Predation           int64\n",
      "Sleep.exposure      int64\n",
      "Endangered          int64\n",
      "dtype: object\n",
      "RangeIndex(start=0, stop=62, step=1)\n",
      "Index(['Species', 'Body.Weight', 'Brain.Weight', 'Non.Dreaming', 'Dreaming',\n",
      "       'Sleep', 'Lifespan', 'Gestation', 'Predation', 'Sleep.exposure',\n",
      "       'Endangered'],\n",
      "      dtype='object')\n"
     ]
    }
   ],
   "source": [
    "print(df.shape)\n",
    "print(df.dtypes)\n",
    "print(df.index)\n",
    "print(df.columns)"
   ]
  },
  {
   "cell_type": "markdown",
   "id": "af8fcb29",
   "metadata": {},
   "source": [
    "Puis quelques méthodes bien utiles également pour commencer à vérifier le *contenu* de notre Dataframe `df`:\n",
    "\n",
    "- `df.head(`*[nb]*`)` : renvoie une vue des `nb` __premières__ lignes du Dataframe (`nb`=5 par défaut)\n",
    "- `df.tail(`*[nb]*`)` : renvoie une vue des `nb` __dernières__ lignes du Dataframe (`nb`=5 par défaut)\n",
    "- `df.describe()` : renvoie un nouveau Dataframe contenant les statistiques de base sur chaque descripteur du tableau :\n",
    "    - `count`: nombre de valeurs (parcequ'il peut y avoir des valeurs manquantes `NaN`)\n",
    "    - `mean`: moyenne des valeurs\n",
    "    - `std` : *standard deviation* (écart type)\n",
    "    - `min`, `max` ainsi que les quartiles\n",
    "\n",
    "Vérifiez le contenu de notre Dataframe `df` à l'aide de ces méthodes:"
   ]
  },
  {
   "cell_type": "code",
   "execution_count": 5,
   "id": "53e5f2d3",
   "metadata": {},
   "outputs": [
    {
     "name": "stdout",
     "output_type": "stream",
     "text": [
      "5 premieres lignes :\n",
      "                      Species  Body.Weight  Brain.Weight  Non.Dreaming  \\\n",
      "0           African elephant      6654.00        5712.0           NaN   \n",
      "1  African giant pouched rat         1.00           6.6           6.3   \n",
      "2                 Arctic Fox         3.39          44.5           NaN   \n",
      "\n",
      "   Dreaming  Sleep  Lifespan  Gestation  Predation  Sleep.exposure  Endangered  \n",
      "0       NaN    3.3      38.6      645.0          3               5           3  \n",
      "1       2.0    8.3       4.5       42.0          3               1           3  \n",
      "2       NaN   12.5      14.0       60.0          1               1           1  \n",
      "\n",
      "\n",
      "5 dernieres lignes :\n",
      "                   Species  Body.Weight  Brain.Weight  Non.Dreaming  Dreaming  \\\n",
      "59                 Vervet         4.19          58.0           9.7       0.6   \n",
      "60          Water opossum         3.50           3.9          12.8       6.6   \n",
      "61  Yellow-bellied marmot         4.05          17.0           NaN       NaN   \n",
      "\n",
      "    Sleep  Lifespan  Gestation  Predation  Sleep.exposure  Endangered  \n",
      "59   10.3      24.0      210.0          4               3           4  \n",
      "60   19.4       3.0       14.0          2               1           1  \n",
      "61    NaN      13.0       38.0          3               1           1   \n",
      "\n",
      "\n",
      "       Body.Weight  Brain.Weight  Non.Dreaming   Dreaming      Sleep  \\\n",
      "count    62.000000     62.000000     48.000000  50.000000  58.000000   \n",
      "mean    198.790323    283.134194      8.672917   1.972000  10.532759   \n",
      "std     899.157935    930.278942      3.666452   1.442651   4.606760   \n",
      "min       0.010000      0.140000      2.100000   0.000000   2.600000   \n",
      "25%       0.600000      4.250000      6.250000   0.900000   8.050000   \n",
      "50%       3.345000     17.250000      8.350000   1.800000  10.450000   \n",
      "75%      48.202500    166.000000     11.000000   2.550000  13.200000   \n",
      "max    6654.000000   5712.000000     17.900000   6.600000  19.900000   \n",
      "\n",
      "         Lifespan   Gestation  Predation  Sleep.exposure  Endangered  \n",
      "count   58.000000   58.000000  62.000000       62.000000   62.000000  \n",
      "mean    19.877586  142.353448   2.870968        2.419355    2.612903  \n",
      "std     18.206255  146.805039   1.476414        1.604792    1.441252  \n",
      "min      2.000000   12.000000   1.000000        1.000000    1.000000  \n",
      "25%      6.625000   35.750000   2.000000        1.000000    1.000000  \n",
      "50%     15.100000   79.000000   3.000000        2.000000    2.000000  \n",
      "75%     27.750000  207.500000   4.000000        4.000000    4.000000  \n",
      "max    100.000000  645.000000   5.000000        5.000000    5.000000  \n"
     ]
    }
   ],
   "source": [
    "print(\"5 premieres lignes :\\n\", df.head(3))\n",
    "print(\"\\n\\n5 dernieres lignes :\\n\", df.tail(3), \"\\n\\n\")\n",
    "print(df.describe())"
   ]
  },
  {
   "cell_type": "markdown",
   "id": "b89eda9f",
   "metadata": {},
   "source": [
    "---"
   ]
  },
  {
   "cell_type": "markdown",
   "id": "27f42968",
   "metadata": {},
   "source": [
    "## B. Pandas et NumPy : c'est quoi le rapport?"
   ]
  },
  {
   "cell_type": "markdown",
   "id": "c53610df",
   "metadata": {},
   "source": [
    "Répétons-le, <font color='red'>les Dataframe et les tableaux NumPy sont deux structures de données différentes</font> :\n",
    "\n",
    "|  Tableaux NumPy  |    Dataframe    |\n",
    "| :---------------:|:---------------:|\n",
    "| 1 à n dimensions |   2 dimensions  |\n",
    "| données toutes de même type  | données hétérogènes (par colonne) |\n",
    "| indexation par des entiers uniquement | indexation libre  |\n",
    "\n",
    "C'est la raison pour laquelle nous ne pouvons pas accéder aux éléments d'un Dataframe comme nous le faisons pour un tableau NumPy : `df[0, 0]` renvoie une erreur!\n",
    "\n",
    "Pour faire simple, Pandas définit une structure de données *series* qui est un vecteur NumPy auquel on ajoute un index (en complément de l'indexation naturelle par des entiers). Une *series* correspond à une colonne du Dataframe. Un Dataframe peut alors être vu comme un \"dictionnaire\" de *series* où :\n",
    "- les clés sont les noms des colonnes\n",
    "- les valeurs sont les *series*\n",
    "- toutes les *series* ont le même index\n",
    "\n",
    "<img src=\"images/sdd_Dataframe.jpg\" alt=\"Structure de données Dataframe\" height=\"350\" style=\"display: block; margin: 0 auto\"/>\n",
    "\n",
    "On utilisera alors les syntaxes suivantes :\n",
    "- `df['nom col']` pour récupérer toute la colonne (*series*) de nom `'nom col'`\n",
    "- `df[`<font color='red'>**[**</font>`'nom col1', ..., 'nom coln'`<font color='red'>**]**</font>`]` pour récupérer une vue du Dataframe contenant plusieurs colonnes\n",
    "- `df['nom col'][0:10]` pour récupérer les 10 premières valeurs de cette colonne\n",
    "- `df['new col'] = ...` pour ajouter une nouvelle colonne au Dataframe (ajout d'une nouvelle clé dans le \"dictionnaire\")\n",
    "- `df = df.set_index(keys)` ou `df.set_index(keys, inplace=True)` pour définir (ou remplacer) l'indexation des lignes du Dataframe"
   ]
  },
  {
   "cell_type": "markdown",
   "id": "553c9a8c",
   "metadata": {},
   "source": [
    "### Exercice 1 : sommeil léger"
   ]
  },
  {
   "cell_type": "markdown",
   "id": "3458ad1e",
   "metadata": {},
   "source": [
    "1. Créer une variable `noms` composée noms des 62 mamifères du Dataframe `df`. Quel est le type de cette variable?"
   ]
  },
  {
   "cell_type": "code",
   "execution_count": 7,
   "id": "8ccf1d01",
   "metadata": {},
   "outputs": [
    {
     "name": "stdout",
     "output_type": "stream",
     "text": [
      "0              African elephant\n",
      "1     African giant pouched rat\n",
      "2                    Arctic Fox\n",
      "3        Arctic ground squirrel\n",
      "4                Asian elephant\n",
      "                ...            \n",
      "57                   Tree hyrax\n",
      "58                   Tree shrew\n",
      "59                       Vervet\n",
      "60                Water opossum\n",
      "61        Yellow-bellied marmot\n",
      "Name: Species, Length: 62, dtype: object\n",
      "<class 'pandas.core.series.Series'>\n"
     ]
    }
   ],
   "source": [
    "noms = df[\"Species\"]\n",
    "print(noms)\n",
    "print(type(noms)) # <class 'pandas.core.series.Series'>"
   ]
  },
  {
   "cell_type": "markdown",
   "id": "6102b667",
   "metadata": {},
   "source": [
    "2. Stocker dans `subpart` la projection du Dataframe `Df` sur les descripteurs : nom d'espèces (**Species**), poids (**Body.Weight**) et espérance de vie (**Lifespan**). Quel est le type de `subpart`?"
   ]
  },
  {
   "cell_type": "code",
   "execution_count": 13,
   "id": "d8da1f8e",
   "metadata": {},
   "outputs": [
    {
     "name": "stdout",
     "output_type": "stream",
     "text": [
      "                      Species  Body.Weight  Lifespan\n",
      "0            African elephant      6654.00      38.6\n",
      "1   African giant pouched rat         1.00       4.5\n",
      "2                  Arctic Fox         3.39      14.0\n",
      "3      Arctic ground squirrel         0.92       NaN\n",
      "4              Asian elephant      2547.00      69.0\n",
      "..                        ...          ...       ...\n",
      "57                 Tree hyrax         2.00       7.5\n",
      "58                 Tree shrew         0.10       2.3\n",
      "59                     Vervet         4.19      24.0\n",
      "60              Water opossum         3.50       3.0\n",
      "61      Yellow-bellied marmot         4.05      13.0\n",
      "\n",
      "[62 rows x 3 columns]\n",
      "<class 'pandas.core.frame.DataFrame'>\n"
     ]
    }
   ],
   "source": [
    "subpart = df[[\"Species\", \"Body.Weight\", \"Lifespan\"]]\n",
    "print(subpart)\n",
    "print(type(subpart)) # <class 'pandas.core.frame.DataFrame'>"
   ]
  },
  {
   "cell_type": "markdown",
   "id": "30fdc932",
   "metadata": {},
   "source": [
    "3. Calculer le poids moyen et le poids median des animaux du Dataframe `df`. "
   ]
  },
  {
   "cell_type": "code",
   "execution_count": 17,
   "id": "5b056c82",
   "metadata": {},
   "outputs": [
    {
     "name": "stdout",
     "output_type": "stream",
     "text": [
      "Moyenne du poids :  198.79032258064518\n",
      "Médiane du poids :  3.3449999999999998\n"
     ]
    }
   ],
   "source": [
    "print(\"Moyenne du poids : \", df[\"Body.Weight\"].mean())\n",
    "print(\"Médiane du poids : \", df[\"Body.Weight\"].median())"
   ]
  },
  {
   "cell_type": "markdown",
   "id": "5854ec6a",
   "metadata": {},
   "source": [
    "Nous allons creuser un peu pour découvrir les raisons de cette divergence moyenne vs. médiane..."
   ]
  },
  {
   "cell_type": "markdown",
   "id": "23983902",
   "metadata": {},
   "source": [
    "4. Utiliser matplotlib (intégrée à Pandas) pour afficher la distribution des poids des animaux sous forme d'un histogramme [`df.plot.hist()`](https://pandas.pydata.org/docs/reference/api/pandas.DataFrame.plot.hist.html)"
   ]
  },
  {
   "cell_type": "code",
   "execution_count": 36,
   "id": "4c643225",
   "metadata": {},
   "outputs": [
    {
     "data": {
      "text/plain": [
       "<AxesSubplot:ylabel='Frequency'>"
      ]
     },
     "execution_count": 36,
     "metadata": {},
     "output_type": "execute_result"
    },
    {
     "data": {
      "image/png": "[encoded data removed]",
      "text/plain": [
       "<Figure size 432x288 with 1 Axes>"
      ]
     },
     "metadata": {
      "needs_background": "light"
     },
     "output_type": "display_data"
    }
   ],
   "source": [
    "import matplotlib\n",
    "df[\"Body.Weight\"].plot.hist()\n",
    "# j'ai pas réussi à afficher le noms des animaux à la place de frequency pour la question d'après"
   ]
  },
  {
   "cell_type": "markdown",
   "id": "0c8b0b35",
   "metadata": {},
   "source": [
    "5. Quels sont les (deux?) animaux dont le poids semble significativement supérieur aux autres?"
   ]
  },
  {
   "cell_type": "code",
   "execution_count": 20,
   "id": "13553ade",
   "metadata": {},
   "outputs": [
    {
     "name": "stdout",
     "output_type": "stream",
     "text": [
      "6654.0\n"
     ]
    }
   ],
   "source": [
    "# question à lire sur le graphique précédent"
   ]
  },
  {
   "cell_type": "markdown",
   "id": "a9d3b9e8",
   "metadata": {},
   "source": [
    "6. Utiliser les noms d'animaux pour indexer le Dataframe `df` puis afficher le diagramme en battons [`df.plot.bar(...)`](https://pandas.pydata.org/docs/reference/api/pandas.DataFrame.plot.bar.html) des poids des animaux"
   ]
  },
  {
   "cell_type": "code",
   "execution_count": 35,
   "id": "e8aa0332",
   "metadata": {},
   "outputs": [
    {
     "data": {
      "text/plain": [
       "<AxesSubplot:xlabel='Species'>"
      ]
     },
     "execution_count": 35,
     "metadata": {},
     "output_type": "execute_result"
    },
    {
     "data": {
      "image/png": "[encoded data removed]",
      "text/plain": [
       "<Figure size 432x288 with 1 Axes>"
      ]
     },
     "metadata": {
      "needs_background": "light"
     },
     "output_type": "display_data"
    }
   ],
   "source": [
    "df.plot.bar(x=\"Species\", y=\"Body.Weight\")"
   ]
  },
  {
   "cell_type": "markdown",
   "id": "0dacdc6b",
   "metadata": {},
   "source": [
    "7. Utiliser [`df.plot.scatter()`](https://pandas.pydata.org/docs/reference/api/pandas.DataFrame.plot.scatter.html) pour imaginer un graphique susceptible de répondre à ces questions :\n",
    "    - existe-t'il une correlation entre le temps de sommeil paradoxal (**Dreaming**) et le temps de sommeil total (**Sleep**)?\n",
    "    - les animaux les plus exposés à la prédation durant leur sommeil (**Sleep.exposure**) sont-ils ceux qui dorment le moins? "
   ]
  },
  {
   "cell_type": "code",
   "execution_count": 40,
   "id": "b84922f6",
   "metadata": {},
   "outputs": [
    {
     "data": {
      "text/plain": [
       "<AxesSubplot:xlabel='Sleep.exposure', ylabel='Sleep'>"
      ]
     },
     "execution_count": 40,
     "metadata": {},
     "output_type": "execute_result"
    },
    {
     "data": {
      "image/png": "[encoded data removed]",
      "text/plain": [
       "<Figure size 432x288 with 1 Axes>"
      ]
     },
     "metadata": {
      "needs_background": "light"
     },
     "output_type": "display_data"
    },
    {
     "data": {
      "image/png": "[encoded data removed]",
      "text/plain": [
       "<Figure size 432x288 with 1 Axes>"
      ]
     },
     "metadata": {
      "needs_background": "light"
     },
     "output_type": "display_data"
    }
   ],
   "source": [
    "df.plot.scatter(x=\"Sleep\", y=\"Dreaming\") # non pas de corrélation\n",
    "df.plot.scatter(x=\"Sleep.exposure\", y=\"Sleep\") # oui un peu"
   ]
  },
  {
   "cell_type": "markdown",
   "id": "10e6e23d",
   "metadata": {},
   "source": [
    "---"
   ]
  },
  {
   "cell_type": "markdown",
   "id": "17122543",
   "metadata": {},
   "source": [
    "## C. Quelques stats simples... mais ciblées!"
   ]
  },
  {
   "cell_type": "markdown",
   "id": "09b73a65",
   "metadata": {},
   "source": [
    "La colonne `Predation` décrit chaque animal selon 5 niveaux d'exposition à la prédation (1 = plus faible exposition et 5 = plus forte exposition). Imaginons que l'on cherche à savoir combien d'animaux sont à un niveau maximal (5) d'exposition à la prédation.\n",
    "\n",
    "Quelle instruction écririez-vous pour obtenir ce résultat? (si, vous savez faire!...)"
   ]
  },
  {
   "cell_type": "code",
   "execution_count": 50,
   "id": "007bb412",
   "metadata": {},
   "outputs": [
    {
     "data": {
      "text/plain": [
       "15"
      ]
     },
     "execution_count": 50,
     "metadata": {},
     "output_type": "execute_result"
    }
   ],
   "source": [
    "df[\"Predation\"].filter(like='5').count()"
   ]
  },
  {
   "cell_type": "markdown",
   "id": "5a789ec6",
   "metadata": {},
   "source": [
    "Imaginons que l'on cherche à connaître la durée moyenne de sommeil paradoxal (**Dreaming**) pour ce groupe d'animaux en particulier.\n",
    "Allez-y... "
   ]
  },
  {
   "cell_type": "code",
   "execution_count": 51,
   "id": "c4aaa4fc",
   "metadata": {},
   "outputs": [
    {
     "ename": "KeyError",
     "evalue": "'Dreaming'",
     "output_type": "error",
     "traceback": [
      "\u001b[0;31m---------------------------------------------------------------------------\u001b[0m",
      "\u001b[0;31mKeyError\u001b[0m                                  Traceback (most recent call last)",
      "\u001b[0;32m~/.local/lib/python3.10/site-packages/pandas/core/indexes/base.py\u001b[0m in \u001b[0;36mget_loc\u001b[0;34m(self, key)\u001b[0m\n\u001b[1;32m   3801\u001b[0m         \u001b[0;32mtry\u001b[0m\u001b[0;34m:\u001b[0m\u001b[0;34m\u001b[0m\u001b[0;34m\u001b[0m\u001b[0m\n\u001b[0;32m-> 3802\u001b[0;31m             \u001b[0;32mreturn\u001b[0m \u001b[0mself\u001b[0m\u001b[0;34m.\u001b[0m\u001b[0m_engine\u001b[0m\u001b[0;34m.\u001b[0m\u001b[0mget_loc\u001b[0m\u001b[0;34m(\u001b[0m\u001b[0mcasted_key\u001b[0m\u001b[0;34m)\u001b[0m\u001b[0;34m\u001b[0m\u001b[0;34m\u001b[0m\u001b[0m\n\u001b[0m\u001b[1;32m   3803\u001b[0m         \u001b[0;32mexcept\u001b[0m \u001b[0mKeyError\u001b[0m \u001b[0;32mas\u001b[0m \u001b[0merr\u001b[0m\u001b[0;34m:\u001b[0m\u001b[0;34m\u001b[0m\u001b[0;34m\u001b[0m\u001b[0m\n",
      "\u001b[0;32mindex.pyx\u001b[0m in \u001b[0;36mpandas._libs.index.IndexEngine.get_loc\u001b[0;34m()\u001b[0m\n",
      "\u001b[0;32mindex.pyx\u001b[0m in \u001b[0;36mpandas._libs.index.IndexEngine.get_loc\u001b[0;34m()\u001b[0m\n",
      "\u001b[0;32mpandas/_libs/hashtable_class_helper.pxi\u001b[0m in \u001b[0;36mpandas._libs.hashtable.PyObjectHashTable.get_item\u001b[0;34m()\u001b[0m\n",
      "\u001b[0;32mpandas/_libs/hashtable_class_helper.pxi\u001b[0m in \u001b[0;36mpandas._libs.hashtable.PyObjectHashTable.get_item\u001b[0;34m()\u001b[0m\n",
      "\u001b[0;31mKeyError\u001b[0m: 'Dreaming'",
      "\nThe above exception was the direct cause of the following exception:\n",
      "\u001b[0;31mKeyError\u001b[0m                                  Traceback (most recent call last)",
      "\u001b[0;32m/tmp/ipykernel_6627/2346619524.py\u001b[0m in \u001b[0;36m<module>\u001b[0;34m\u001b[0m\n\u001b[1;32m      1\u001b[0m \u001b[0manimaux_peureux\u001b[0m \u001b[0;34m=\u001b[0m \u001b[0mdf\u001b[0m\u001b[0;34m[\u001b[0m\u001b[0;34m[\u001b[0m\u001b[0;34m\"Dreaming\"\u001b[0m\u001b[0;34m,\u001b[0m \u001b[0;34m\"Predation\"\u001b[0m\u001b[0;34m]\u001b[0m\u001b[0;34m]\u001b[0m\u001b[0;34m.\u001b[0m\u001b[0mfilter\u001b[0m\u001b[0;34m(\u001b[0m\u001b[0mlike\u001b[0m\u001b[0;34m=\u001b[0m\u001b[0;34m'5'\u001b[0m\u001b[0;34m)\u001b[0m\u001b[0;34m\u001b[0m\u001b[0;34m\u001b[0m\u001b[0m\n\u001b[1;32m      2\u001b[0m \u001b[0;31m# récupérer le df de ces animaux\u001b[0m\u001b[0;34m\u001b[0m\u001b[0;34m\u001b[0m\u001b[0m\n\u001b[0;32m----> 3\u001b[0;31m \u001b[0manimaux_peureux\u001b[0m\u001b[0;34m[\u001b[0m\u001b[0;34m\"Dreaming\"\u001b[0m\u001b[0;34m]\u001b[0m\u001b[0;34m.\u001b[0m\u001b[0mmean\u001b[0m\u001b[0;34m(\u001b[0m\u001b[0;34m)\u001b[0m\u001b[0;34m\u001b[0m\u001b[0;34m\u001b[0m\u001b[0m\n\u001b[0m",
      "\u001b[0;32m~/.local/lib/python3.10/site-packages/pandas/core/frame.py\u001b[0m in \u001b[0;36m__getitem__\u001b[0;34m(self, key)\u001b[0m\n\u001b[1;32m   4088\u001b[0m             \u001b[0;32mif\u001b[0m \u001b[0mself\u001b[0m\u001b[0;34m.\u001b[0m\u001b[0mcolumns\u001b[0m\u001b[0;34m.\u001b[0m\u001b[0mnlevels\u001b[0m \u001b[0;34m>\u001b[0m \u001b[0;36m1\u001b[0m\u001b[0;34m:\u001b[0m\u001b[0;34m\u001b[0m\u001b[0;34m\u001b[0m\u001b[0m\n\u001b[1;32m   4089\u001b[0m                 \u001b[0;32mreturn\u001b[0m \u001b[0mself\u001b[0m\u001b[0;34m.\u001b[0m\u001b[0m_getitem_multilevel\u001b[0m\u001b[0;34m(\u001b[0m\u001b[0mkey\u001b[0m\u001b[0;34m)\u001b[0m\u001b[0;34m\u001b[0m\u001b[0;34m\u001b[0m\u001b[0m\n\u001b[0;32m-> 4090\u001b[0;31m             \u001b[0mindexer\u001b[0m \u001b[0;34m=\u001b[0m \u001b[0mself\u001b[0m\u001b[0;34m.\u001b[0m\u001b[0mcolumns\u001b[0m\u001b[0;34m.\u001b[0m\u001b[0mget_loc\u001b[0m\u001b[0;34m(\u001b[0m\u001b[0mkey\u001b[0m\u001b[0;34m)\u001b[0m\u001b[0;34m\u001b[0m\u001b[0;34m\u001b[0m\u001b[0m\n\u001b[0m\u001b[1;32m   4091\u001b[0m             \u001b[0;32mif\u001b[0m \u001b[0mis_integer\u001b[0m\u001b[0;34m(\u001b[0m\u001b[0mindexer\u001b[0m\u001b[0;34m)\u001b[0m\u001b[0;34m:\u001b[0m\u001b[0;34m\u001b[0m\u001b[0;34m\u001b[0m\u001b[0m\n\u001b[1;32m   4092\u001b[0m                 \u001b[0mindexer\u001b[0m \u001b[0;34m=\u001b[0m \u001b[0;34m[\u001b[0m\u001b[0mindexer\u001b[0m\u001b[0;34m]\u001b[0m\u001b[0;34m\u001b[0m\u001b[0;34m\u001b[0m\u001b[0m\n",
      "\u001b[0;32m~/.local/lib/python3.10/site-packages/pandas/core/indexes/base.py\u001b[0m in \u001b[0;36mget_loc\u001b[0;34m(self, key)\u001b[0m\n\u001b[1;32m   3807\u001b[0m             ):\n\u001b[1;32m   3808\u001b[0m                 \u001b[0;32mraise\u001b[0m \u001b[0mInvalidIndexError\u001b[0m\u001b[0;34m(\u001b[0m\u001b[0mkey\u001b[0m\u001b[0;34m)\u001b[0m\u001b[0;34m\u001b[0m\u001b[0;34m\u001b[0m\u001b[0m\n\u001b[0;32m-> 3809\u001b[0;31m             \u001b[0;32mraise\u001b[0m \u001b[0mKeyError\u001b[0m\u001b[0;34m(\u001b[0m\u001b[0mkey\u001b[0m\u001b[0;34m)\u001b[0m \u001b[0;32mfrom\u001b[0m \u001b[0merr\u001b[0m\u001b[0;34m\u001b[0m\u001b[0;34m\u001b[0m\u001b[0m\n\u001b[0m\u001b[1;32m   3810\u001b[0m         \u001b[0;32mexcept\u001b[0m \u001b[0mTypeError\u001b[0m\u001b[0;34m:\u001b[0m\u001b[0;34m\u001b[0m\u001b[0;34m\u001b[0m\u001b[0m\n\u001b[1;32m   3811\u001b[0m             \u001b[0;31m# If we have a listlike key, _check_indexing_error will raise\u001b[0m\u001b[0;34m\u001b[0m\u001b[0;34m\u001b[0m\u001b[0m\n",
      "\u001b[0;31mKeyError\u001b[0m: 'Dreaming'"
     ]
    }
   ],
   "source": [
    "animaux_peureux = df[[\"Dreaming\", \"Predation\"]].filter(items=\"Predation\", like='5')\n",
    "# récupérer le df de ces animaux\n",
    "animaux_peureux[\"Dreaming\"].mean()"
   ]
  },
  {
   "cell_type": "markdown",
   "id": "17267ea7",
   "metadata": {},
   "source": [
    "Imaginons (toujours!), que l'on cherche à savoir si le degré d'exposition à la prédation d'une espèce influence sa durée de sommeil paradoxal (**Dreaming**). Nous alors devoir refaire les calculs précédents pour chacun des cinq niveaux de prédation &#x1F624;"
   ]
  },
  {
   "cell_type": "markdown",
   "id": "27a220b6",
   "metadata": {},
   "source": [
    "\n",
    "\n",
    "Voici une nouvelle méthode très utile en analyse des données :\n",
    "- `df.value_counts(subset)` qui retourne une *Series* contenant le nombre d'observations de chaque ligne unique dans le Dataframe restreint au `subset` de colonnes\n",
    "\n",
    "Par exemple : l'instruction `df.value_counts('Predation')` construit alors une *Series* de taille 5 contenant pour chaque niveau d'exposition, le nombre d'animaux concernés."
   ]
  },
  {
   "cell_type": "code",
   "execution_count": null,
   "id": "d614ce7b",
   "metadata": {},
   "outputs": [],
   "source": []
  },
  {
   "cell_type": "markdown",
   "id": "a111ec01",
   "metadata": {},
   "source": [
    "De même, la colonne `Sleep.exposure` contient cette fois l'indice d'exposition *durant le sommeil*. L'instruction `df.value_counts(['Predation', 'Sleep.exposure'])` construit alors une *Series* de taille au plus 25 (5x5) contenant pour chaque combinaison observée, le nombre d'animaux concernés.  "
   ]
  },
  {
   "cell_type": "code",
   "execution_count": null,
   "id": "5136d046",
   "metadata": {},
   "outputs": [],
   "source": []
  },
  {
   "cell_type": "markdown",
   "id": "85e985f1",
   "metadata": {},
   "source": [
    "> étudiez l'index de la *series* retournée par `.value_counts()` lorsqu'il y a plusieurs descripteurs... vous remarquerez que l'index d'une *Series* (et donc d'un *Dataframe*) peut être un *tuple* (index multiple)\n",
    "\n",
    "On remarquera que les deux combinaisons les plus fréquentes correspondent aux animaux :\n",
    "- soit très peu exposés : en général (1) et durant leur sommeil (1) $\\rightarrow$ 10 individus\n",
    "- soit très exposés : en général (5) et durant leur sommeil (5) $\\rightarrow$ 9 individus\n",
    "\n",
    "\n",
    "`value_counts(subset)` permet donc de constituer des *groupes* d'individus et de compter la taille de chacun des groupes. La méthode `groupby()` permet d'aller un peu plus loin en appliquant des routines statistiques sur ces *groupes* d'individus.\n",
    "\n",
    "Ainsi l'instruction `df.groupby('Predation').mean()` renvoie un nouveau Dataframe de 5 lignes, indexé par les 5 valeurs de l'attribut `Predation`. Chaque ligne décrit alors un *groupe* d'individus selon les mêmes descripteurs qu'initialement. La méthode `mean()` utilisée ici définit la valeur qui sera calculée pour décrire le groupe selon chaque descripteur.\n",
    "\n",
    "Revenons alors à notre question initiale : le degré d'exposition à la prédation d'une espèce influence-t'il sa durée de sommeil paradoxal (**Dreaming**)?"
   ]
  },
  {
   "cell_type": "code",
   "execution_count": null,
   "id": "aaf04a3f",
   "metadata": {},
   "outputs": [],
   "source": [
    "\n"
   ]
  },
  {
   "cell_type": "markdown",
   "id": "82ba51c6",
   "metadata": {},
   "source": [
    "---"
   ]
  },
  {
   "cell_type": "markdown",
   "id": "2d4cf41e",
   "metadata": {},
   "source": [
    "## D. Des requêtes avancées"
   ]
  },
  {
   "cell_type": "markdown",
   "id": "874c3e28",
   "metadata": {},
   "source": [
    "### Exercice 2 : de gros dormeurs qui ne devraient peut-être pas..."
   ]
  },
  {
   "cell_type": "markdown",
   "id": "42b9e3e0",
   "metadata": {},
   "source": [
    "1. Commencez par restreindre votre Dataframe aux descripteurs suivants :\n",
    "- `Sleep` : durée de sommeil quotidien\n",
    "- `Predation` : indice d'exposition à la prédation (en général)\n",
    "- `Sleep.exposure` : indice d'exposition à la prédation durant le sommeil\n",
    "- `Endangered` : indice d'extinction (espèce en voie de disparition)"
   ]
  },
  {
   "cell_type": "code",
   "execution_count": null,
   "id": "cf98aeb5",
   "metadata": {},
   "outputs": [],
   "source": []
  },
  {
   "cell_type": "markdown",
   "id": "19a93908",
   "metadata": {},
   "source": [
    "2. Dans ce Dataframe, il y a 4 espèces dont la durée de sommeil n'est pas donnée (valeurs manquantes). Utilisez la méthode [`.isna()`](https://pandas.pydata.org/docs/reference/api/pandas.DataFrame.isna.html?highlight=isna#pandas.DataFrame.isna) pour les identifier puis la méthode [`.dropna(`*axis*`)`](https://pandas.pydata.org/docs/reference/api/pandas.DataFrame.dropna.html?highlight=dropna#pandas.DataFrame.dropna) pour les supprimer"
   ]
  },
  {
   "cell_type": "code",
   "execution_count": null,
   "id": "2c88c242",
   "metadata": {},
   "outputs": [],
   "source": []
  },
  {
   "cell_type": "markdown",
   "id": "64b0e247",
   "metadata": {},
   "source": [
    "3. Affichez les animaux qui dorment plus de 10 heures par jour"
   ]
  },
  {
   "cell_type": "code",
   "execution_count": null,
   "id": "5906953a",
   "metadata": {},
   "outputs": [],
   "source": []
  },
  {
   "cell_type": "markdown",
   "id": "551bab62",
   "metadata": {},
   "source": [
    "4. Affichez les \"gros dormeurs\" c'est-à-dire les animaux qui dorment plus que l'Homme (`Man`)"
   ]
  },
  {
   "cell_type": "code",
   "execution_count": null,
   "id": "260883f5",
   "metadata": {},
   "outputs": [],
   "source": []
  },
  {
   "cell_type": "markdown",
   "id": "445cb238",
   "metadata": {},
   "source": [
    "5. Affichez le nombre de \"gros dormeurs\" pour chaque niveau d'exposition à la prédation (**Predation**)"
   ]
  },
  {
   "cell_type": "code",
   "execution_count": null,
   "id": "22594901",
   "metadata": {},
   "outputs": [],
   "source": []
  },
  {
   "cell_type": "markdown",
   "id": "150ae075",
   "metadata": {},
   "source": [
    "6. Affichez le nombre de \"gros dormeurs\" en voie de disparition (**Endangered**>3) pour chaque niveau d'exposition à la prédation (**Predation**)"
   ]
  },
  {
   "cell_type": "code",
   "execution_count": null,
   "id": "b83dae56",
   "metadata": {},
   "outputs": [],
   "source": []
  },
  {
   "cell_type": "markdown",
   "id": "f9051cca",
   "metadata": {},
   "source": [
    "7. Affichez le nombre de \"gros dormeurs\" en voie de disparition (**Endangered**>3) pour chaque combinaison de niveau d'exposition à la prédation en général et durant le sommeil (**Predation** et **Sleep.exposure**)"
   ]
  },
  {
   "cell_type": "code",
   "execution_count": null,
   "id": "ec72ac30",
   "metadata": {},
   "outputs": [],
   "source": []
  },
  {
   "cell_type": "markdown",
   "id": "9db3867f",
   "metadata": {},
   "source": [
    "8. D'après cette analyse, identifiez le(s) gros dormeur(s) qui ne devraient pas l'être? Et ceux qui ont tout intérêt à l'être?"
   ]
  },
  {
   "cell_type": "code",
   "execution_count": null,
   "id": "80e6ea28",
   "metadata": {},
   "outputs": [],
   "source": []
  },
  {
   "cell_type": "markdown",
   "id": "1f899488",
   "metadata": {},
   "source": [
    "---"
   ]
  },
  {
   "cell_type": "markdown",
   "id": "cf21fa98",
   "metadata": {},
   "source": [
    "## E. Deux méthodes bien utiles : .iloc() et .loc()"
   ]
  },
  {
   "cell_type": "markdown",
   "id": "7ad7a992",
   "metadata": {},
   "source": [
    "Au risque de se répéter, un Dataframe n'est pas un tableau NumPy! De fait, dans un Dataframe il n'est pas possible d'utiliser la double indexation `df[num. lignes, num. colonnes]` comme nous avons appris à le faire pour un tableau NumPy, bien qu'il serait parfois pratique de pouvoir le faire...\n",
    "\n",
    "La méthode `.iloc()` a été prévue pour cela. Ainsi il sera possible de sléctionner une vue d'un Dataframe `df` à partir des indices entiers des lignes et des colonnes par l'instruction `df.iloc[num. lignes, num. colonnes]`.\n",
    "\n",
    "De même, la méthode `.loc()`permet de sélectionner une vue d'un Dataframe `df` à partir des noms des lignes et des noms des colonnes par l'instruction `df.loc[noms lignes, noms colonnes]`."
   ]
  },
  {
   "cell_type": "markdown",
   "id": "beb21d38",
   "metadata": {},
   "source": [
    "Par exemple, l'instruction `df.iloc[0, 0]` renvoie la valeur du premier individu sur le premier descripteur :"
   ]
  },
  {
   "cell_type": "code",
   "execution_count": null,
   "id": "580b415a",
   "metadata": {},
   "outputs": [],
   "source": []
  },
  {
   "cell_type": "markdown",
   "id": "b244a713",
   "metadata": {},
   "source": [
    "L'instruction `df.iloc[:10, -3:]` renvoie les valeurs des 10 premiers individus sur les 3 derniers descripteurs :"
   ]
  },
  {
   "cell_type": "code",
   "execution_count": null,
   "id": "9631d20b",
   "metadata": {},
   "outputs": [],
   "source": []
  },
  {
   "cell_type": "markdown",
   "id": "2a2cdb08",
   "metadata": {},
   "source": [
    "L'instruction `df.loc['Man', 'Brain.Weight']` renvoie le poids moyen en grammes du cerveau (**Brain.Weight**) de l'Homme (**Man**):"
   ]
  },
  {
   "cell_type": "code",
   "execution_count": null,
   "id": "ff6ecdb6",
   "metadata": {},
   "outputs": [],
   "source": []
  },
  {
   "cell_type": "markdown",
   "id": "89e8da6f",
   "metadata": {},
   "source": [
    "L'instruction `df.loc[['Man', 'Horse'], ['Brain.Weight', 'Body.Weight']]` renvoie le poids moyen du cerveau (**Brain.Weight**) et du corps (**Body.Weight**) de l'Homme (**Man**) et du cheval (**Horse**):"
   ]
  },
  {
   "cell_type": "code",
   "execution_count": null,
   "id": "227de894",
   "metadata": {},
   "outputs": [],
   "source": []
  },
  {
   "cell_type": "markdown",
   "id": "366f7f8d",
   "metadata": {},
   "source": [
    "---"
   ]
  },
  {
   "cell_type": "markdown",
   "id": "26e4e525",
   "metadata": {},
   "source": [
    "## F. Exercice d'exploration"
   ]
  },
  {
   "cell_type": "markdown",
   "id": "ba615fda",
   "metadata": {},
   "source": [
    "> \n",
    "> Nous allons analyser un nouveau tableau de données répertoriant des informations sur plusieurs centaines de passagers du Titanic dont :\n",
    "> - leur identité, sexe, âge\n",
    "> - leur classe sur le bateau (1ère classe $\\rightarrow$ 3ème classe)\n",
    "> - le fait qu'ils aient ou non survécu au naufrage\n",
    "> - ..."
   ]
  },
  {
   "cell_type": "markdown",
   "id": "e6e60bc9",
   "metadata": {},
   "source": [
    "1. Chargez le jeu de données *titanic.csv* et utilisez quelques commandes de base afin de connaître le nombre d'individus, le nombre et la nature des descripteurs, les statistiques de base ainsi que les éventuelles données manquantes"
   ]
  },
  {
   "cell_type": "code",
   "execution_count": null,
   "id": "6642ee9e",
   "metadata": {},
   "outputs": [],
   "source": []
  },
  {
   "cell_type": "markdown",
   "id": "fa4716d3",
   "metadata": {},
   "source": [
    "2. On ne s'intéressera qu'aux descripteurs suivants : `Pclass`, `Sex`, `Age` et `Survival`. Modifiez le Dataframe en conséquence puis supprimez les individus pour lesquels des données sont manquantes"
   ]
  },
  {
   "cell_type": "code",
   "execution_count": null,
   "id": "0cb053df",
   "metadata": {},
   "outputs": [],
   "source": []
  },
  {
   "cell_type": "markdown",
   "id": "0950f3aa",
   "metadata": {},
   "source": [
    "3. Combien y-a-t'il eu de survivants parmi les passagers restants? Quel est le taux de survie?"
   ]
  },
  {
   "cell_type": "code",
   "execution_count": null,
   "id": "6d341a54",
   "metadata": {},
   "outputs": [],
   "source": []
  },
  {
   "cell_type": "markdown",
   "id": "7235aca9",
   "metadata": {},
   "source": [
    "4. Les enfants ont ils été sauvés en priorité? Est-ce que la formule *les femmes et les enfants d'abord* semble avoir été repectée?"
   ]
  },
  {
   "cell_type": "code",
   "execution_count": null,
   "id": "1360166b",
   "metadata": {},
   "outputs": [],
   "source": []
  },
  {
   "cell_type": "markdown",
   "id": "7fcf7e12",
   "metadata": {},
   "source": [
    "5. Une hiérarchie de classe a-t'elle joué durant le sauvetage?"
   ]
  },
  {
   "cell_type": "code",
   "execution_count": null,
   "id": "a4ee3b5f",
   "metadata": {},
   "outputs": [],
   "source": []
  }
 ],
 "metadata": {
  "kernelspec": {
   "display_name": "Python 3 (ipykernel)",
   "language": "python",
   "name": "python3"
  },
  "language_info": {
   "codemirror_mode": {
    "name": "ipython",
    "version": 3
   },
   "file_extension": ".py",
   "mimetype": "text/x-python",
   "name": "python",
   "nbconvert_exporter": "python",
   "pygments_lexer": "ipython3",
   "version": "3.10.12"
  },
  "vscode": {
   "interpreter": {
    "hash": "aee8b7b246df8f9039afb4144a1f6fd8d2ca17a180786b69acc140d282b71a49"
   }
  }
 },
 "nbformat": 4,
 "nbformat_minor": 5
}
