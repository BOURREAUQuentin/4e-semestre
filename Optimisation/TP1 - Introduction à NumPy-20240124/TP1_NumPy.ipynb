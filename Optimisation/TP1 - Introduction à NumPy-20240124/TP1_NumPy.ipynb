{
 "cells": [
  {
   "cell_type": "markdown",
   "id": "organizational-termination",
   "metadata": {},
   "source": [
    "# Introduction à la librairie NumPy"
   ]
  },
  {
   "cell_type": "markdown",
   "id": "proved-rubber",
   "metadata": {},
   "source": [
    "## A. Les tableaux NumPy"
   ]
  },
  {
   "cell_type": "markdown",
   "id": "pleasant-jaguar",
   "metadata": {},
   "source": [
    "[NumPy (Numerical Python)](https://numpy.org/doc/stable/index.html) est une librairie open source utilisée pour traiter en Python des données numériques de manière simple et efficace. Elle s'appuie principalement sur la définition d'une nouvelle structure de données : **<font color='red'>le tableau multi-dimensionnel *ndarray* (ou N-dimensional array)</font>**.\n",
    "\n",
    "Vous commencerez par importer la librairie NumPy en lui donnant l'alias `np` par convention"
   ]
  },
  {
   "cell_type": "code",
   "execution_count": 2,
   "id": "chubby-medicaid",
   "metadata": {},
   "outputs": [],
   "source": [
    "import numpy as np"
   ]
  },
  {
   "cell_type": "markdown",
   "id": "geological-consultation",
   "metadata": {},
   "source": [
    "Un tableau NumPy est caractérisé par :\n",
    "- ses éléments : **tous de même type!**\n",
    "- le type de ses éléments (`dtype`): par défaut int64 ou float64\n",
    "- sa dimensionalité (`ndim`): 1 (vecteur), 2 (matrice) ou plus (tenseur)\n",
    "- sa forme (`shape`): taille du tableau selon chaque dimension (nb. lignes, nb. colonnes, etc.)\n",
    "- sa taille (`size`): le nombre total d'éléments dans le tableau\n",
    "\n",
    "On peut initialiser un tableau NumPy à partir d'une liste Python puis vérifier ses prorpiétés à l'aide des attributs `dtype`, `ndim` et `shape`. Testez différentes configurations à partir du code ci-dessous :"
   ]
  },
  {
   "cell_type": "code",
   "execution_count": 3,
   "id": "elect-opera",
   "metadata": {},
   "outputs": [
    {
     "name": "stdout",
     "output_type": "stream",
     "text": [
      "[1 2 3 4 5 6]\n",
      "Type des éléments: int64\n",
      "Dimensionalité:    1\n",
      "Forme du tableau:  (6,)\n",
      "Taille du tableau:  6\n"
     ]
    }
   ],
   "source": [
    "v = np.array([1, 2, 3, 4, 5, 6], dtype=np.int64) # l'argument dtype est optionel\n",
    "\n",
    "print(v)\n",
    "print(\"Type des éléments:\", v.dtype)\n",
    "print(\"Dimensionalité:   \",v.ndim)\n",
    "print(\"Forme du tableau: \",v.shape)\n",
    "print(\"Taille du tableau: \",v.size)"
   ]
  },
  {
   "cell_type": "markdown",
   "id": "electronic-pierre",
   "metadata": {},
   "source": [
    "### Exercice 1 : votre premier tableau NumPy"
   ]
  },
  {
   "cell_type": "markdown",
   "id": "rapid-guarantee",
   "metadata": {},
   "source": [
    "1. Construisez un tableau NumPy contenant vos moyennes à chaque compétence du semestre 1 (1ère ligne) et du semestre 2 (2ème ligne) du BUT1 :"
   ]
  },
  {
   "cell_type": "code",
   "execution_count": 7,
   "id": "unusual-approval",
   "metadata": {
    "scrolled": true
   },
   "outputs": [
    {
     "name": "stdout",
     "output_type": "stream",
     "text": [
      "[[15.73 14.74 16.87 14.91 13.14 13.46]\n",
      " [15.46 14.83 15.39 15.21 15.3  13.3 ]]\n"
     ]
    }
   ],
   "source": [
    "moyennes = np.array([[15.73, 14.74, 16.87, 14.91, 13.14, 13.46], [15.46, 14.83, 15.39, 15.21, 15.30, 13.30]])\n",
    "\n",
    "print(moyennes)"
   ]
  },
  {
   "cell_type": "markdown",
   "id": "pretty-break",
   "metadata": {},
   "source": [
    "2. Vérifiez (affichez) chacune des propriétés de votre tableau :"
   ]
  },
  {
   "cell_type": "code",
   "execution_count": 8,
   "id": "individual-vocabulary",
   "metadata": {},
   "outputs": [
    {
     "name": "stdout",
     "output_type": "stream",
     "text": [
      "Type des éléments: float64\n",
      "Dimensionalité:    2\n",
      "Forme du tableau:  (2, 6)\n",
      "Taille du tableau:  12\n"
     ]
    }
   ],
   "source": [
    "print(\"Type des éléments:\", moyennes.dtype)\n",
    "print(\"Dimensionalité:   \",moyennes.ndim)\n",
    "print(\"Forme du tableau: \",moyennes.shape)\n",
    "print(\"Taille du tableau: \",moyennes.size)"
   ]
  },
  {
   "cell_type": "markdown",
   "id": "elder-chuck",
   "metadata": {},
   "source": [
    "3. Quelle(s) structure(s) de tableau(x) NumPy proposeriez-vous pour stocker vos notes aux compétences du BUT1, du BUT2 et du BUT3? Construisez ce tableau avec des notes fictives."
   ]
  },
  {
   "cell_type": "code",
   "execution_count": 13,
   "id": "geographic-wisconsin",
   "metadata": {
    "scrolled": true
   },
   "outputs": [
    {
     "name": "stdout",
     "output_type": "stream",
     "text": [
      "Type des éléments: float64\n",
      "Dimensionalité:    3\n",
      "Forme du tableau:  (3, 2, 6)\n",
      "Taille du tableau:  36\n"
     ]
    }
   ],
   "source": [
    "BUT1 = [[15.73, 14.74, 16.87, 14.91, 13.14, 13.46], [15.46, 14.83, 15.39, 15.21, 15.30, 13.30]]\n",
    "BUT2 = [[14.73, 13.74, 14.87, 16.12, 18.14, 17.56], [19.56, 14.13, 11.87, 12.29, 14.20, 15.90]]\n",
    "BUT3 = [[18.73, 14.24, 17.15, 15.12, 18.24, 14.56], [18.15, 17.13, 13.87, 12.35, 15.24, 14.24]]\n",
    "moyennes_but = np.array([BUT1, BUT2, BUT3])\n",
    "print(\"Type des éléments:\", moyennes_but.dtype)\n",
    "print(\"Dimensionalité:   \",moyennes_but.ndim)\n",
    "print(\"Forme du tableau: \",moyennes_but.shape)\n",
    "print(\"Taille du tableau: \",moyennes_but.size)"
   ]
  },
  {
   "cell_type": "markdown",
   "id": "prostate-amateur",
   "metadata": {},
   "source": [
    "Il existe d'autres méthodes (constructeurs) pour initialiser un tableau NumPy :\n",
    "- `np.array(liste)` déjà vu\n",
    "- `np.zeros(shape)` initialise avec des 0\n",
    "- `np.ones(shape)` intialise avec des 1\n",
    "- `np.full(shape, value)` intialise avec des *value*<!--- `np.empty(shape)` création du tableau sans initialiser (valeurs arbitraires) -->\n",
    "- `np.arange([start], stop, [step])` initialise avec une suite de valeurs (*range*)\n",
    "- `np.linspace(start, stop, num=50])` initialise avec une suite de *num* valeurs réparties de façon égale sur l'intervalle [start, stop]\n",
    "- [`np.random.randn(dim0, dim1, ...)`](https://numpy.org/doc/1.16/reference/generated/numpy.random.randn.html#numpy.random.randn) initialise avec des valeurs tirées aléatoirement selon une loi normale centrée en 0 ($\\mu = 0$) et de variance 1 ($\\sigma^2=1$) : ${\\cal N}(0,1)$"
   ]
  },
  {
   "cell_type": "markdown",
   "id": "conventional-award",
   "metadata": {},
   "source": [
    "### Exercice 2 : différentes initialisations"
   ]
  },
  {
   "cell_type": "markdown",
   "id": "biological-google",
   "metadata": {},
   "source": [
    "Utilisez les différentes méthodes d'initialisation de tableaux NumPy afin de construire :\n",
    "1. un vecteur de 10 zéros"
   ]
  },
  {
   "cell_type": "code",
   "execution_count": 18,
   "id": "satisfactory-juice",
   "metadata": {},
   "outputs": [
    {
     "name": "stdout",
     "output_type": "stream",
     "text": [
      "[0. 0. 0. 0. 0. 0. 0. 0. 0. 0.]\n"
     ]
    }
   ],
   "source": [
    "vecteur_init = np.zeros(10)\n",
    "print(vecteur_init)"
   ]
  },
  {
   "cell_type": "markdown",
   "id": "sacred-iceland",
   "metadata": {},
   "source": [
    "2. une matrice 1 ligne x 10 colonnes contenant uniquement des 1 "
   ]
  },
  {
   "cell_type": "code",
   "execution_count": 19,
   "id": "vital-young",
   "metadata": {},
   "outputs": [
    {
     "name": "stdout",
     "output_type": "stream",
     "text": [
      "[1. 1. 1. 1. 1. 1. 1. 1. 1. 1.]\n"
     ]
    }
   ],
   "source": [
    "matrice_init = np.ones(10)\n",
    "print(matrice_init)"
   ]
  },
  {
   "cell_type": "markdown",
   "id": "expressed-apollo",
   "metadata": {},
   "source": [
    "3. un cube de taille 3x3x3 d'entiers tous initialisés à 10"
   ]
  },
  {
   "cell_type": "code",
   "execution_count": 22,
   "id": "joint-jaguar",
   "metadata": {},
   "outputs": [
    {
     "name": "stdout",
     "output_type": "stream",
     "text": [
      "[[10 10 10]\n",
      " [10 10 10]\n",
      " [10 10 10]]\n"
     ]
    }
   ],
   "source": [
    "cube = np.full((3, 3), 10)\n",
    "print(cube)"
   ]
  },
  {
   "cell_type": "markdown",
   "id": "62ae70e6",
   "metadata": {},
   "source": [
    "4. une matrice des températures mensuelles des 4 dernières années en Mongolie, simulées par un distribution ${\\cal N}(0,1)$ *(et oui, il fait froid en Mongolie!)*"
   ]
  },
  {
   "cell_type": "code",
   "execution_count": 25,
   "id": "d1c383fe",
   "metadata": {
    "scrolled": true
   },
   "outputs": [
    {
     "name": "stdout",
     "output_type": "stream",
     "text": [
      "[[ 1.24443224 -1.16088155 -1.9605706  -0.97627391  2.40888829  0.56813588\n",
      "   0.75815334 -0.11050096 -0.62895635 -0.93304623  0.2625508   1.41122042]\n",
      " [-0.55264174 -0.4683006   1.18116535  1.55535348 -0.33859256  0.18003756\n",
      "   0.57722033  1.73559913 -2.48604728  0.05886499  0.64036898 -0.50612788]\n",
      " [-1.32533666 -0.45073834 -1.24584952  0.89650806  0.48007643  0.9459671\n",
      "  -0.10886826 -0.38844833 -0.99339021 -0.83989743  1.87560823  1.45058833]\n",
      " [-1.19353236 -0.81185149  0.21620074  1.06612684  0.69418591 -1.71868799\n",
      "  -0.73435366  0.45506747 -0.42857876  0.43287896  0.38178682 -0.20938309]]\n"
     ]
    }
   ],
   "source": [
    "matrice_temperatures = np.random.randn(4, 12) # chaque sous_liste = 1 année\n",
    "print(matrice_temperatures)"
   ]
  },
  {
   "cell_type": "markdown",
   "id": "5d83669c",
   "metadata": {},
   "source": [
    "5. Une séries de 100 valeurs régulièrement espacées dans l'intervalle [-1, 2]"
   ]
  },
  {
   "cell_type": "code",
   "execution_count": 29,
   "id": "d2ad67ac",
   "metadata": {},
   "outputs": [
    {
     "name": "stdout",
     "output_type": "stream",
     "text": [
      "[-1.         -0.96969697 -0.93939394 -0.90909091 -0.87878788 -0.84848485\n",
      " -0.81818182 -0.78787879 -0.75757576 -0.72727273 -0.6969697  -0.66666667\n",
      " -0.63636364 -0.60606061 -0.57575758 -0.54545455 -0.51515152 -0.48484848\n",
      " -0.45454545 -0.42424242 -0.39393939 -0.36363636 -0.33333333 -0.3030303\n",
      " -0.27272727 -0.24242424 -0.21212121 -0.18181818 -0.15151515 -0.12121212\n",
      " -0.09090909 -0.06060606 -0.03030303  0.          0.03030303  0.06060606\n",
      "  0.09090909  0.12121212  0.15151515  0.18181818  0.21212121  0.24242424\n",
      "  0.27272727  0.3030303   0.33333333  0.36363636  0.39393939  0.42424242\n",
      "  0.45454545  0.48484848  0.51515152  0.54545455  0.57575758  0.60606061\n",
      "  0.63636364  0.66666667  0.6969697   0.72727273  0.75757576  0.78787879\n",
      "  0.81818182  0.84848485  0.87878788  0.90909091  0.93939394  0.96969697\n",
      "  1.          1.03030303  1.06060606  1.09090909  1.12121212  1.15151515\n",
      "  1.18181818  1.21212121  1.24242424  1.27272727  1.3030303   1.33333333\n",
      "  1.36363636  1.39393939  1.42424242  1.45454545  1.48484848  1.51515152\n",
      "  1.54545455  1.57575758  1.60606061  1.63636364  1.66666667  1.6969697\n",
      "  1.72727273  1.75757576  1.78787879  1.81818182  1.84848485  1.87878788\n",
      "  1.90909091  1.93939394  1.96969697  2.        ]\n"
     ]
    }
   ],
   "source": [
    "serie = np.linspace(-1, 2, num=100)\n",
    "print(serie)"
   ]
  },
  {
   "cell_type": "markdown",
   "id": "1640e772",
   "metadata": {},
   "source": [
    "... profitons-en pour tracer le graphe de la fonction $f(x)=x^2$ sur ce même intervalle :"
   ]
  },
  {
   "cell_type": "code",
   "execution_count": 30,
   "id": "a732674a",
   "metadata": {},
   "outputs": [
    {
     "data": {
      "text/plain": [
       "[<matplotlib.lines.Line2D at 0x7fa3f494cfa0>]"
      ]
     },
     "execution_count": 30,
     "metadata": {},
     "output_type": "execute_result"
    },
    {
     "data": {
      "image/png": "[encoded data removed]",
      "text/plain": [
       "<Figure size 432x288 with 1 Axes>"
      ]
     },
     "metadata": {
      "needs_background": "light"
     },
     "output_type": "display_data"
    }
   ],
   "source": [
    "from matplotlib import pyplot as plt\n",
    "plt.plot(serie, serie**2)"
   ]
  },
  {
   "cell_type": "markdown",
   "id": "controversial-shoot",
   "metadata": {},
   "source": [
    "6. un vecteur constitué de la suite des entiers naturels impairs plus petits que 20"
   ]
  },
  {
   "cell_type": "code",
   "execution_count": 31,
   "id": "decent-proof",
   "metadata": {},
   "outputs": [
    {
     "name": "stdout",
     "output_type": "stream",
     "text": [
      "[ 1  3  5  7  9 11 13 15 17 19]\n"
     ]
    }
   ],
   "source": [
    "vecteur = np.arange(1, 20, 2)\n",
    "print(vecteur)"
   ]
  },
  {
   "cell_type": "markdown",
   "id": "parental-hundred",
   "metadata": {},
   "source": [
    "Utiliser la méthode [`np.reshape()`](https://numpy.org/doc/stable/reference/generated/numpy.reshape.html#numpy-reshape) pour tranformer le vecteur précédent en une matrice (2x5)"
   ]
  },
  {
   "cell_type": "code",
   "execution_count": 32,
   "id": "suited-possession",
   "metadata": {},
   "outputs": [
    {
     "name": "stdout",
     "output_type": "stream",
     "text": [
      "[[ 1  3  5  7  9]\n",
      " [11 13 15 17 19]]\n"
     ]
    }
   ],
   "source": [
    "nouveau_vecteur = np.reshape(vecteur, (2, 5))\n",
    "print(nouveau_vecteur)"
   ]
  },
  {
   "cell_type": "markdown",
   "id": "4237f235",
   "metadata": {},
   "source": [
    "Utiliser la méthode [`np.ravel()`](https://numpy.org/doc/stable/reference/generated/numpy.ravel.html) afin d'\"applatir\" le tableau des températures construit plus haut en un tableau à une seule dimension composé de toutes les valeurs"
   ]
  },
  {
   "cell_type": "code",
   "execution_count": 35,
   "id": "24d5801b",
   "metadata": {},
   "outputs": [
    {
     "name": "stdout",
     "output_type": "stream",
     "text": [
      "[ 1.24443224 -1.16088155 -1.9605706  -0.97627391  2.40888829  0.56813588\n",
      "  0.75815334 -0.11050096 -0.62895635 -0.93304623  0.2625508   1.41122042\n",
      " -0.55264174 -0.4683006   1.18116535  1.55535348 -0.33859256  0.18003756\n",
      "  0.57722033  1.73559913 -2.48604728  0.05886499  0.64036898 -0.50612788\n",
      " -1.32533666 -0.45073834 -1.24584952  0.89650806  0.48007643  0.9459671\n",
      " -0.10886826 -0.38844833 -0.99339021 -0.83989743  1.87560823  1.45058833\n",
      " -1.19353236 -0.81185149  0.21620074  1.06612684  0.69418591 -1.71868799\n",
      " -0.73435366  0.45506747 -0.42857876  0.43287896  0.38178682 -0.20938309]\n"
     ]
    }
   ],
   "source": [
    "nouveau_tableau = np.ravel(matrice_temperatures)\n",
    "print(nouveau_tableau)"
   ]
  },
  {
   "cell_type": "markdown",
   "id": "1dddd30c",
   "metadata": {},
   "source": [
    "La méthode `np.concatenate((ArrayA, ArrayB), axis=0)` permet de concaténer deux tableaux Numpy (de formes compatibles) selon un axe :\n",
    "\n",
    "![Axes dans un tableau Numpy](images/ndarray_axis.jpg)\n",
    "\n",
    "Ainsi :\n",
    "- si l'on souhaite assembler **verticalement** deux matrices M1 et M2 (ayant le même nombre de colonnes) on écrira"
   ]
  },
  {
   "cell_type": "code",
   "execution_count": 39,
   "id": "c6827040",
   "metadata": {},
   "outputs": [
    {
     "name": "stdout",
     "output_type": "stream",
     "text": [
      "M1 : [[0. 0.]\n",
      " [0. 0.]\n",
      " [0. 0.]]\n",
      "M2 : [[1. 1.]\n",
      " [1. 1.]]\n",
      "M3 : [[0. 0.]\n",
      " [0. 0.]\n",
      " [0. 0.]\n",
      " [1. 1.]\n",
      " [1. 1.]]\n"
     ]
    }
   ],
   "source": [
    "M1 = np.zeros((3,2))\n",
    "print(\"M1 :\", M1)\n",
    "M2 = np.ones((2,2))\n",
    "print(\"M2 :\", M2)\n",
    "M3 = np.concatenate((M1, M2), axis=0)\n",
    "print(\"M3 :\", M3)"
   ]
  },
  {
   "cell_type": "markdown",
   "id": "de542680",
   "metadata": {},
   "source": [
    "- si l'on souhaite assembler **horizontalement** deux matrices M1 et M2 (ayant le même nombre de lignes) on écrira"
   ]
  },
  {
   "cell_type": "code",
   "execution_count": 40,
   "id": "a6078028",
   "metadata": {},
   "outputs": [
    {
     "name": "stdout",
     "output_type": "stream",
     "text": [
      "M1 : [[0. 0. 0. 0.]\n",
      " [0. 0. 0. 0.]\n",
      " [0. 0. 0. 0.]]\n",
      "M2 : [[1. 1.]\n",
      " [1. 1.]\n",
      " [1. 1.]]\n",
      "M3 : [[0. 0. 0. 0. 1. 1.]\n",
      " [0. 0. 0. 0. 1. 1.]\n",
      " [0. 0. 0. 0. 1. 1.]]\n"
     ]
    }
   ],
   "source": [
    "M1 = np.zeros((3,4))\n",
    "print(\"M1 :\", M1)\n",
    "M2 = np.ones((3,2))\n",
    "print(\"M2 :\", M2)\n",
    "M3 = np.concatenate((M1, M2), axis=1)\n",
    "print(\"M3 :\", M3)"
   ]
  },
  {
   "cell_type": "markdown",
   "id": "hundred-investment",
   "metadata": {},
   "source": [
    "## B. Accès aux éléments d'un tableau NumPy"
   ]
  },
  {
   "cell_type": "markdown",
   "id": "bizarre-justice",
   "metadata": {},
   "source": [
    "Comme pour les listes Python, on accède aux éléments d'un tableau NumPy :\n",
    "- par les indices (ex. `t[0]`, `t[-1]`, `t[1, 2]`, etc.) \n",
    "- par un slice (ex. `t[1:4]`, `t[:3]`, `t[2:4, 1:6]`, etc.)\n",
    "\n",
    "Soit la matrice $M$ suivante :"
   ]
  },
  {
   "cell_type": "code",
   "execution_count": 41,
   "id": "norman-seattle",
   "metadata": {},
   "outputs": [
    {
     "name": "stdout",
     "output_type": "stream",
     "text": [
      "[[ 0  1  2  3  4]\n",
      " [ 5  6  7  8  9]\n",
      " [10 11 12 13 14]\n",
      " [15 16 17 18 19]]\n"
     ]
    }
   ],
   "source": [
    "M = np.arange(20).reshape((4,5))\n",
    "print(M)"
   ]
  },
  {
   "cell_type": "markdown",
   "id": "471f8883",
   "metadata": {},
   "source": [
    "Comment accéder :\n",
    "- à la valeur (2) située en 1ère ligne, 3ème colonne?\n",
    "- à la 2ème ligne de $M$?\n",
    "- à la 1ère colonne de $M$?\n",
    "- aux 2 premières lignes de $M$?\n",
    "- au bloc constitué des deux lignes centrales et 3 colonnes centrales dans $M$?\n",
    "- aux deux dernières colonnes de $M$?"
   ]
  },
  {
   "cell_type": "code",
   "execution_count": 58,
   "id": "f2c3ce15",
   "metadata": {},
   "outputs": [
    {
     "name": "stdout",
     "output_type": "stream",
     "text": [
      "valeur 2 : 2\n",
      "2ème ligne : [5 6 7 8 9]\n",
      "1ère colonne : [[ 0]\n",
      " [ 5]\n",
      " [10]\n",
      " [15]]\n",
      "2 premières lignes : [[0 1 2 3 4]\n",
      " [5 6 7 8 9]]\n",
      "bloc : [[ 6  7  8]\n",
      " [11 12 13]]\n",
      "2 dernières colonnes : [[ 3  4]\n",
      " [ 8  9]\n",
      " [13 14]\n",
      " [18 19]]\n"
     ]
    }
   ],
   "source": [
    "print(\"valeur 2 :\", M[0, 2])\n",
    "print(\"2ème ligne :\", M[1])\n",
    "print(\"1ère colonne :\", M[0:4, 0:1])\n",
    "print(\"2 premières lignes :\", M[0:2])\n",
    "print(\"bloc :\", M[1:3, 1:4])\n",
    "print(\"2 dernières colonnes :\", M[0:4, 3:5])"
   ]
  },
  {
   "cell_type": "markdown",
   "id": "radio-accreditation",
   "metadata": {},
   "source": [
    "**<font color='red'>ATTENTION</font>** : l'indexation et le slicing renvoient une *vue* du tableau d'origine. Modifier les valeurs d'une vue modifie également les valeurs du tableau d'origine (pas de recopie).\n",
    "\n",
    "Exemple :"
   ]
  },
  {
   "cell_type": "code",
   "execution_count": 59,
   "id": "employed-yugoslavia",
   "metadata": {
    "scrolled": true
   },
   "outputs": [
    {
     "name": "stdout",
     "output_type": "stream",
     "text": [
      "S1: [12.   17.   20.   15.    9.75 13.  ]\n",
      "BUT1: [[12.   17.   20.   15.    9.75 13.  ]\n",
      " [10.   12.   10.   13.   11.2  14.  ]]\n"
     ]
    }
   ],
   "source": [
    "notes_BUT1 = np.array([[12, 17, 8.5, 15, 9.75, 13],\n",
    "                       [10, 12, 10., 13, 11.2, 14]])\n",
    "notes_S1 = notes_BUT1[0, :]   # notes_S1 est une vue de notes_BUT1\n",
    "notes_S1[2] = 20              # on modifie une valeur dans la vue\n",
    "print(\"S1:\", notes_S1)\n",
    "print(\"BUT1:\", notes_BUT1)    # la valeur est mofifiée dans le tableau dorigine"
   ]
  },
  {
   "cell_type": "markdown",
   "id": "exceptional-isolation",
   "metadata": {},
   "source": [
    "Lorsque l'on souhaite extraire des éléments en vue d'un traitement indépendant du tableau d'origine, on force la recopie dans un nouveau tableau avec la méthode `copy()`.\n",
    "\n",
    "Exemple :"
   ]
  },
  {
   "cell_type": "code",
   "execution_count": 60,
   "id": "western-affair",
   "metadata": {},
   "outputs": [
    {
     "name": "stdout",
     "output_type": "stream",
     "text": [
      "S1: [12.   17.   20.   15.    9.75 13.  ]\n",
      "BUT1: [[12.   17.    8.5  15.    9.75 13.  ]\n",
      " [10.   12.   10.   13.   11.2  14.  ]]\n"
     ]
    }
   ],
   "source": [
    "notes_BUT1 = np.array([[12, 17, 8.5, 15, 9.75, 13],\n",
    "                       [10, 12, 10., 13, 11.2, 14]])\n",
    "notes_S1 = notes_BUT1[0, :].copy()   # notes_S1 est la copie d'une partie de notes_BUT1\n",
    "notes_S1[2] = 20                     # on modifie une valeur dans cette copie\n",
    "print(\"S1:\", notes_S1)\n",
    "print(\"BUT1:\", notes_BUT1)           # la valeur n'est pas mofifiée dans le tableau dorigine"
   ]
  },
  {
   "cell_type": "markdown",
   "id": "honey-oasis",
   "metadata": {},
   "source": [
    "NumPy facilite la sélection d'un sous-ensemble d'élements à partir de conditions. Pour cela on utilise l'indexation par des booléens.\n",
    "\n",
    "Exemple :"
   ]
  },
  {
   "cell_type": "code",
   "execution_count": 61,
   "id": "searching-somalia",
   "metadata": {},
   "outputs": [
    {
     "name": "stdout",
     "output_type": "stream",
     "text": [
      "[ 1  2  3  4  5  6  7  8  9 10 11]\n",
      "[False False False False False  True  True  True  True  True  True]\n",
      "[ 6  7  8  9 10 11]\n"
     ]
    }
   ],
   "source": [
    "t = np.arange(1,12)\n",
    "selection = (t>5)   # on construit un vecteur de booléens définissant la sélection (masque)\n",
    "res = t[selection]  # on filtre les éléments correspondant à la sélection\n",
    "print(t)\n",
    "print(selection)\n",
    "print(res)"
   ]
  },
  {
   "cell_type": "markdown",
   "id": "executed-thread",
   "metadata": {},
   "source": [
    "L'utilisation d'opérateurs booléens (`&`, `|`, `==`, `!=`) facilite la sélection d'éléments sur la base de conditions plus complexes\n",
    "\n",
    "Exemple :"
   ]
  },
  {
   "cell_type": "code",
   "execution_count": 74,
   "id": "posted-opera",
   "metadata": {},
   "outputs": [
    {
     "name": "stdout",
     "output_type": "stream",
     "text": [
      "[1 2 3 4]\n",
      "[2 4 6 8]\n",
      "[1 2 4 5 7 8]\n",
      "[3 4 5]\n"
     ]
    }
   ],
   "source": [
    "t = np.array([[1, 2, 3], [4, 5, 6], [7, 8, 9]])\n",
    "print(t[t < 5])         # renvoie le vecteur des éléments de t plus petits que 5\n",
    "print(t[t%2==0])        # renvoie le vecteur des éléments pairs de t\n",
    "print(t[t%3!=0])        # renvoie le vecteur des éléments de t qui ne sont pas divisibles par 3\n",
    "print(t[(t>2) & (t<6)]) # renvoie le vecteur des éléments de t dans l'intervalle ]2,6["
   ]
  },
  {
   "cell_type": "markdown",
   "id": "brown-provider",
   "metadata": {},
   "source": [
    "### Exercice 3 : les années bissextiles\n",
    "\n",
    "Une année est bissextile si elle est divisible par 4 mais pas par 100 ou si elle est divisible par 400 (*ex. 1900 n'était pas bissextile mais 2000 l'était*).\n",
    "\n",
    "Combien y-a-t'il eu d'années bissextiles depuis l'an 0?"
   ]
  },
  {
   "cell_type": "code",
   "execution_count": 76,
   "id": "boxed-response",
   "metadata": {},
   "outputs": [
    {
     "name": "stdout",
     "output_type": "stream",
     "text": [
      "[   0    4    8   12   16   20   24   28   32   36   40   44   48   52\n",
      "   56   60   64   68   72   76   80   84   88   92   96  104  108  112\n",
      "  116  120  124  128  132  136  140  144  148  152  156  160  164  168\n",
      "  172  176  180  184  188  192  196  204  208  212  216  220  224  228\n",
      "  232  236  240  244  248  252  256  260  264  268  272  276  280  284\n",
      "  288  292  296  304  308  312  316  320  324  328  332  336  340  344\n",
      "  348  352  356  360  364  368  372  376  380  384  388  392  396  400\n",
      "  404  408  412  416  420  424  428  432  436  440  444  448  452  456\n",
      "  460  464  468  472  476  480  484  488  492  496  504  508  512  516\n",
      "  520  524  528  532  536  540  544  548  552  556  560  564  568  572\n",
      "  576  580  584  588  592  596  604  608  612  616  620  624  628  632\n",
      "  636  640  644  648  652  656  660  664  668  672  676  680  684  688\n",
      "  692  696  704  708  712  716  720  724  728  732  736  740  744  748\n",
      "  752  756  760  764  768  772  776  780  784  788  792  796  800  804\n",
      "  808  812  816  820  824  828  832  836  840  844  848  852  856  860\n",
      "  864  868  872  876  880  884  888  892  896  904  908  912  916  920\n",
      "  924  928  932  936  940  944  948  952  956  960  964  968  972  976\n",
      "  980  984  988  992  996 1004 1008 1012 1016 1020 1024 1028 1032 1036\n",
      " 1040 1044 1048 1052 1056 1060 1064 1068 1072 1076 1080 1084 1088 1092\n",
      " 1096 1104 1108 1112 1116 1120 1124 1128 1132 1136 1140 1144 1148 1152\n",
      " 1156 1160 1164 1168 1172 1176 1180 1184 1188 1192 1196 1200 1204 1208\n",
      " 1212 1216 1220 1224 1228 1232 1236 1240 1244 1248 1252 1256 1260 1264\n",
      " 1268 1272 1276 1280 1284 1288 1292 1296 1304 1308 1312 1316 1320 1324\n",
      " 1328 1332 1336 1340 1344 1348 1352 1356 1360 1364 1368 1372 1376 1380\n",
      " 1384 1388 1392 1396 1404 1408 1412 1416 1420 1424 1428 1432 1436 1440\n",
      " 1444 1448 1452 1456 1460 1464 1468 1472 1476 1480 1484 1488 1492 1496\n",
      " 1504 1508 1512 1516 1520 1524 1528 1532 1536 1540 1544 1548 1552 1556\n",
      " 1560 1564 1568 1572 1576 1580 1584 1588 1592 1596 1600 1604 1608 1612\n",
      " 1616 1620 1624 1628 1632 1636 1640 1644 1648 1652 1656 1660 1664 1668\n",
      " 1672 1676 1680 1684 1688 1692 1696 1704 1708 1712 1716 1720 1724 1728\n",
      " 1732 1736 1740 1744 1748 1752 1756 1760 1764 1768 1772 1776 1780 1784\n",
      " 1788 1792 1796 1804 1808 1812 1816 1820 1824 1828 1832 1836 1840 1844\n",
      " 1848 1852 1856 1860 1864 1868 1872 1876 1880 1884 1888 1892 1896 1904\n",
      " 1908 1912 1916 1920 1924 1928 1932 1936 1940 1944 1948 1952 1956 1960\n",
      " 1964 1968 1972 1976 1980 1984 1988 1992 1996 2000 2004 2008 2012 2016\n",
      " 2020 2024]\n",
      "492\n"
     ]
    }
   ],
   "source": [
    "annees = np.arange(0,2025)\n",
    "selection_bissextile = annees[((annees%4==0) & (annees%100!=0)) | (annees%400==0)]\n",
    "res = annees[selection_bissextile]\n",
    "print(res)\n",
    "print(len(res))"
   ]
  },
  {
   "cell_type": "markdown",
   "id": "937a8be5",
   "metadata": {},
   "source": [
    "### Exercice 4 : simulation de notes\n",
    "\n",
    "On souhaite constuire une simulation des moyennes aux 6 compétences d'un semestre du BUT pour 5 étudiants. Les moyennes sont générées à partir de distributions normales ${\\cal N}(10,7)$.\n",
    "Faire en sorte que toutes les notes supérieures à 20 (resp. inférieures à 0) soient modifiées en 20 (resp. 0)."
   ]
  },
  {
   "cell_type": "code",
   "execution_count": null,
   "id": "38c44954",
   "metadata": {},
   "outputs": [],
   "source": [
    "moyennes = np.random.randn(4, 12)\n",
    "print(moyennes)"
   ]
  },
  {
   "cell_type": "markdown",
   "id": "00de5706",
   "metadata": {},
   "source": [
    "### Exercice 5 : image et tableau NumPy\n",
    "\n",
    "Une image peut être chargée dans un tableau NumPy où chaque valeur du tableau contient l'intensité d'un pixel (entier entre 0 et 255) :\n",
    "- une image en noir et blanc de 500 x 1000 pixels sera stockée dans une matrice de *shape* (500, 1000) où chaque valeur correspond au niveau de gris d'un pixel (0 = pixel noir, 255 = pixel blanc)\n",
    "\n",
    "- une image en couleur de 500 x 1000 pixels sera stockée dans un tenseur de *shape* (500, 1000, 3) composé de 3 matrices (500, 1000) chacune définissant l'intensité des pixels selon une couleur (<font color='red'>R*ed*</font>, <font color='green'>G*reen*</font>, <font color='blue'>B*lue*</font>).\n",
    "\n",
    "Le code suivant permet de charger un tableau NumPy contenant les niveaux de gris des pixels d'une image puis de l'afficher :\n"
   ]
  },
  {
   "cell_type": "code",
   "execution_count": null,
   "id": "16cc2cb5",
   "metadata": {},
   "outputs": [],
   "source": [
    "image = np.load('images/logo.npy')\n",
    "plt.imshow(image, cmap=plt.cm.gray)\n",
    "plt.show()"
   ]
  },
  {
   "cell_type": "markdown",
   "id": "c390e101",
   "metadata": {},
   "source": [
    "Votre travail consiste à modifier cette image de sorte à :\n",
    "1. zoomer sur le logo (supprimer le cadre extérieur blanc)\n",
    "2. faire ressortir (en noir) la partie \"informatique\"\n",
    "3. remettre le logo dans le bon sens"
   ]
  },
  {
   "cell_type": "code",
   "execution_count": null,
   "id": "4eced7e8",
   "metadata": {},
   "outputs": [],
   "source": []
  }
 ],
 "metadata": {
  "kernelspec": {
   "display_name": "Python 3 (ipykernel)",
   "language": "python",
   "name": "python3"
  },
  "language_info": {
   "codemirror_mode": {
    "name": "ipython",
    "version": 3
   },
   "file_extension": ".py",
   "mimetype": "text/x-python",
   "name": "python",
   "nbconvert_exporter": "python",
   "pygments_lexer": "ipython3",
   "version": "3.10.12"
  },
  "vscode": {
   "interpreter": {
    "hash": "aee8b7b246df8f9039afb4144a1f6fd8d2ca17a180786b69acc140d282b71a49"
   }
  }
 },
 "nbformat": 4,
 "nbformat_minor": 5
}
