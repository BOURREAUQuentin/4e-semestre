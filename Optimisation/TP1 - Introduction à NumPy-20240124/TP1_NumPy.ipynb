{
 "cells": [
  {
   "cell_type": "markdown",
   "id": "organizational-termination",
   "metadata": {},
   "source": [
    "# Introduction à la librairie NumPy"
   ]
  },
  {
   "cell_type": "markdown",
   "id": "proved-rubber",
   "metadata": {},
   "source": [
    "## A. Les tableaux NumPy"
   ]
  },
  {
   "cell_type": "markdown",
   "id": "pleasant-jaguar",
   "metadata": {},
   "source": [
    "[NumPy (Numerical Python)](https://numpy.org/doc/stable/index.html) est une librairie open source utilisée pour traiter en Python des données numériques de manière simple et efficace. Elle s'appuie principalement sur la définition d'une nouvelle structure de données : **<font color='red'>le tableau multi-dimensionnel *ndarray* (ou N-dimensional array)</font>**.\n",
    "\n",
    "Vous commencerez par importer la librairie NumPy en lui donnant l'alias `np` par convention"
   ]
  },
  {
   "cell_type": "code",
   "execution_count": null,
   "id": "chubby-medicaid",
   "metadata": {},
   "outputs": [],
   "source": [
    "import numpy as np"
   ]
  },
  {
   "cell_type": "markdown",
   "id": "geological-consultation",
   "metadata": {},
   "source": [
    "Un tableau NumPy est caractérisé par :\n",
    "- ses éléments : **tous de même type!**\n",
    "- le type de ses éléments (`dtype`): par défaut int64 ou float64\n",
    "- sa dimensionalité (`ndim`): 1 (vecteur), 2 (matrice) ou plus (tenseur)\n",
    "- sa forme (`shape`): taille du tableau selon chaque dimension (nb. lignes, nb. colonnes, etc.)\n",
    "- sa taille (`size`): le nombre total d'éléments dans le tableau\n",
    "\n",
    "On peut initialiser un tableau NumPy à partir d'une liste Python puis vérifier ses prorpiétés à l'aide des attributs `dtype`, `ndim` et `shape`. Testez différentes configurations à partir du code ci-dessous :"
   ]
  },
  {
   "cell_type": "code",
   "execution_count": null,
   "id": "elect-opera",
   "metadata": {},
   "outputs": [],
   "source": [
    "v = np.array([1, 2, 3, 4, 5, 6], dtype=np.int64) # l'argument dtype est optionel\n",
    "\n",
    "print(v)\n",
    "print(\"Type des éléments:\", v.dtype)\n",
    "print(\"Dimensionalité:   \",v.ndim)\n",
    "print(\"Forme du tableau: \",v.shape)\n",
    "print(\"Taille du tableau: \",v.size)"
   ]
  },
  {
   "cell_type": "markdown",
   "id": "electronic-pierre",
   "metadata": {},
   "source": [
    "### Exercice 1 : votre premier tableau NumPy"
   ]
  },
  {
   "cell_type": "markdown",
   "id": "rapid-guarantee",
   "metadata": {},
   "source": [
    "1. Construisez un tableau NumPy contenant vos moyennes à chaque compétence du semestre 1 (1ère ligne) et du semestre 2 (2ème ligne) du BUT1 :"
   ]
  },
  {
   "cell_type": "code",
   "execution_count": null,
   "id": "unusual-approval",
   "metadata": {},
   "outputs": [],
   "source": []
  },
  {
   "cell_type": "markdown",
   "id": "pretty-break",
   "metadata": {},
   "source": [
    "2. Vérifiez (affichez) chacune des propriétés de votre tableau :"
   ]
  },
  {
   "cell_type": "code",
   "execution_count": null,
   "id": "individual-vocabulary",
   "metadata": {},
   "outputs": [],
   "source": []
  },
  {
   "cell_type": "markdown",
   "id": "elder-chuck",
   "metadata": {},
   "source": [
    "3. Quelle(s) structure(s) de tableau(x) NumPy proposeriez-vous pour stocker vos notes aux compétences du BUT1, du BUT2 et du BUT3? Construisez ce tableau avec des notes fictives."
   ]
  },
  {
   "cell_type": "code",
   "execution_count": null,
   "id": "geographic-wisconsin",
   "metadata": {},
   "outputs": [],
   "source": []
  },
  {
   "cell_type": "markdown",
   "id": "prostate-amateur",
   "metadata": {},
   "source": [
    "Il existe d'autres méthodes (constructeurs) pour initialiser un tableau NumPy :\n",
    "- `np.array(liste)` déjà vu\n",
    "- `np.zeros(shape)` initialise avec des 0\n",
    "- `np.ones(shape)` intialise avec des 1\n",
    "- `np.full(shape, value)` intialise avec des *value*<!--- `np.empty(shape)` création du tableau sans initialiser (valeurs arbitraires) -->\n",
    "- `np.arange([start], stop, [step])` initialise avec une suite de valeurs (*range*)\n",
    "- `np.linspace(start, stop, num=50])` initialise avec une suite de *num* valeurs réparties de façon égale sur l'intervalle [start, stop]\n",
    "- [`np.random.randn(dim0, dim1, ...)`](https://numpy.org/doc/1.16/reference/generated/numpy.random.randn.html#numpy.random.randn) initialise avec des valeurs tirées aléatoirement selon une loi normale centrée en 0 ($\\mu = 0$) et de variance 1 ($\\sigma^2=1$) : ${\\cal N}(0,1)$"
   ]
  },
  {
   "cell_type": "markdown",
   "id": "conventional-award",
   "metadata": {},
   "source": [
    "### Exercice 2 : différentes initialisations"
   ]
  },
  {
   "cell_type": "markdown",
   "id": "biological-google",
   "metadata": {},
   "source": [
    "Utilisez les différentes méthodes d'initialisation de tableaux NumPy afin de construire :\n",
    "1. un vecteur de 10 zéros"
   ]
  },
  {
   "cell_type": "code",
   "execution_count": null,
   "id": "satisfactory-juice",
   "metadata": {},
   "outputs": [],
   "source": []
  },
  {
   "cell_type": "markdown",
   "id": "sacred-iceland",
   "metadata": {},
   "source": [
    "2. une matrice 1 ligne x 10 colonnes contenant uniquement des 1 "
   ]
  },
  {
   "cell_type": "code",
   "execution_count": null,
   "id": "vital-young",
   "metadata": {},
   "outputs": [],
   "source": []
  },
  {
   "cell_type": "markdown",
   "id": "expressed-apollo",
   "metadata": {},
   "source": [
    "3. un cube de taille 3x3x3 d'entiers tous initialisés à 10"
   ]
  },
  {
   "cell_type": "code",
   "execution_count": null,
   "id": "joint-jaguar",
   "metadata": {},
   "outputs": [],
   "source": []
  },
  {
   "attachments": {},
   "cell_type": "markdown",
   "id": "62ae70e6",
   "metadata": {},
   "source": [
    "4. une matrice des températures mensuelles des 4 dernières années en Mongolie, simulées par un distribution ${\\cal N}(0,1)$ *(et oui, il fait froid en Mongolie!)*"
   ]
  },
  {
   "cell_type": "code",
   "execution_count": null,
   "id": "d1c383fe",
   "metadata": {},
   "outputs": [],
   "source": []
  },
  {
   "cell_type": "markdown",
   "id": "5d83669c",
   "metadata": {},
   "source": [
    "5. Une séries de 100 valeurs régulièrement espacées dans l'intervalle [-1, 2]"
   ]
  },
  {
   "cell_type": "code",
   "execution_count": null,
   "id": "d2ad67ac",
   "metadata": {},
   "outputs": [],
   "source": []
  },
  {
   "cell_type": "markdown",
   "id": "1640e772",
   "metadata": {},
   "source": [
    "... profitons-en pour tracer le graphe de la fonction $f(x)=x^2$ sur ce même intervalle :"
   ]
  },
  {
   "cell_type": "code",
   "execution_count": null,
   "id": "a732674a",
   "metadata": {},
   "outputs": [],
   "source": [
    "from matplotlib import pyplot as plt\n",
    "plt.plot(x, x**2)"
   ]
  },
  {
   "cell_type": "markdown",
   "id": "controversial-shoot",
   "metadata": {},
   "source": [
    "6. un vecteur constitué de la suite des entiers naturels impairs plus petits que 20"
   ]
  },
  {
   "cell_type": "code",
   "execution_count": null,
   "id": "decent-proof",
   "metadata": {},
   "outputs": [],
   "source": []
  },
  {
   "cell_type": "markdown",
   "id": "parental-hundred",
   "metadata": {},
   "source": [
    "Utiliser la méthode [`np.reshape()`](https://numpy.org/doc/stable/reference/generated/numpy.reshape.html#numpy-reshape) pour tranformer le vecteur précédent en une matrice (2x5)"
   ]
  },
  {
   "cell_type": "code",
   "execution_count": null,
   "id": "suited-possession",
   "metadata": {},
   "outputs": [],
   "source": []
  },
  {
   "cell_type": "markdown",
   "id": "4237f235",
   "metadata": {},
   "source": [
    "Utiliser la méthode [`np.ravel()`](https://numpy.org/doc/stable/reference/generated/numpy.ravel.html) afin d'\"applatir\" le tableau des températures construit plus haut en un tableau à une seule dimension composé de toutes les valeurs"
   ]
  },
  {
   "cell_type": "code",
   "execution_count": null,
   "id": "24d5801b",
   "metadata": {},
   "outputs": [],
   "source": []
  },
  {
   "cell_type": "markdown",
   "id": "1dddd30c",
   "metadata": {},
   "source": [
    "La méthode `np.concatenate((ArrayA, ArrayB), axis=0)` permet de concaténer deux tableaux Numpy (de formes compatibles) selon un axe :\n",
    "\n",
    "![Axes dans un tableau Numpy](images/ndarray_axis.jpg)\n",
    "\n",
    "Ainsi :\n",
    "- si l'on souhaite assembler **verticalement** deux matrices M1 et M2 (ayant le même nombre de colonnes) on écrira"
   ]
  },
  {
   "cell_type": "code",
   "execution_count": null,
   "id": "c6827040",
   "metadata": {},
   "outputs": [],
   "source": [
    "M1 = np.zeros((3,2))\n",
    "M2 = np.ones((2,2))\n",
    "M3 = np.concatenate((M1, M2), axis=0)\n",
    "M3"
   ]
  },
  {
   "cell_type": "markdown",
   "id": "de542680",
   "metadata": {},
   "source": [
    "- si l'on souhaite assembler **horizontalement** deux matrices M1 et M2 (ayant le même nombre de lignes) on écrira"
   ]
  },
  {
   "cell_type": "code",
   "execution_count": null,
   "id": "a6078028",
   "metadata": {},
   "outputs": [],
   "source": [
    "M1 = np.zeros((3,4))\n",
    "M2 = np.ones((3,2))\n",
    "M3 = np.concatenate((M1, M2), axis=1)\n",
    "M3"
   ]
  },
  {
   "cell_type": "markdown",
   "id": "hundred-investment",
   "metadata": {},
   "source": [
    "## B. Accès aux éléments d'un tableau NumPy"
   ]
  },
  {
   "cell_type": "markdown",
   "id": "bizarre-justice",
   "metadata": {},
   "source": [
    "Comme pour les listes Python, on accède aux éléments d'un tableau NumPy :\n",
    "- par les indices (ex. `t[0]`, `t[-1]`, `t[1, 2]`, etc.) \n",
    "- par un slice (ex. `t[1:4]`, `t[:3]`, `t[2:4, 1:6]`, etc.)\n",
    "\n",
    "Soit la matrice $M$ suivante :"
   ]
  },
  {
   "cell_type": "code",
   "execution_count": null,
   "id": "norman-seattle",
   "metadata": {},
   "outputs": [],
   "source": [
    "M = np.arange(20).reshape((4,5))\n",
    "M"
   ]
  },
  {
   "cell_type": "markdown",
   "id": "471f8883",
   "metadata": {},
   "source": [
    "Comment accéder :\n",
    "- à la valeur (2) située en 1ère ligne, 3ème colonne?\n",
    "- à la 2ème ligne de $M$?\n",
    "- à la 1ère colonne de $M$?\n",
    "- aux 2 premières lignes de $M$?\n",
    "- au bloc constitué des deux lignes centrales et 3 colonnes centrales dans $M$?\n",
    "- aux deux dernières colonnes de $M$?"
   ]
  },
  {
   "cell_type": "code",
   "execution_count": null,
   "id": "f2c3ce15",
   "metadata": {},
   "outputs": [],
   "source": []
  },
  {
   "cell_type": "markdown",
   "id": "radio-accreditation",
   "metadata": {},
   "source": [
    "**<font color='red'>ATTENTION</font>** : l'indexation et le slicing renvoient une *vue* du tableau d'origine. Modifier les valeurs d'une vue modifie également les valeurs du tableau d'origine (pas de recopie).\n",
    "\n",
    "Exemple :"
   ]
  },
  {
   "cell_type": "code",
   "execution_count": null,
   "id": "employed-yugoslavia",
   "metadata": {
    "scrolled": true
   },
   "outputs": [],
   "source": [
    "notes_BUT1 = np.array([[12, 17, 8.5, 15, 9.75, 13],\n",
    "                       [10, 12, 10., 13, 11.2, 14]])\n",
    "notes_S1 = notes_BUT1[0, :]   # notes_S1 est une vue de notes_BUT1\n",
    "notes_S1[2] = 20              # on modifie une valeur dans la vue\n",
    "print(\"S1:\", notes_S1)\n",
    "print(\"BUT1:\", notes_BUT1)    # la valeur est mofifiée dans le tableau dorigine"
   ]
  },
  {
   "cell_type": "markdown",
   "id": "exceptional-isolation",
   "metadata": {},
   "source": [
    "Lorsque l'on souhaite extraire des éléments en vue d'un traitement indépendant du tableau d'origine, on force la recopie dans un nouveau tableau avec la méthode `copy()`.\n",
    "\n",
    "Exemple :"
   ]
  },
  {
   "cell_type": "code",
   "execution_count": null,
   "id": "western-affair",
   "metadata": {},
   "outputs": [],
   "source": [
    "notes_BUT1 = np.array([[12, 17, 8.5, 15, 9.75, 13],\n",
    "                       [10, 12, 10., 13, 11.2, 14]])\n",
    "notes_S1 = notes_BUT1[0, :].copy()   # notes_S1 est la copie d'une partie de notes_BUT1\n",
    "notes_S1[2] = 20                     # on modifie une valeur dans cette copie\n",
    "print(\"S1:\", notes_S1)\n",
    "print(\"BUT1:\", notes_BUT1)           # la valeur n'est pas mofifiée dans le tableau dorigine"
   ]
  },
  {
   "cell_type": "markdown",
   "id": "honey-oasis",
   "metadata": {},
   "source": [
    "NumPy facilite la sélection d'un sous-ensemble d'élements à partir de conditions. Pour cela on utilise l'indexation par des booléens.\n",
    "\n",
    "Exemple :"
   ]
  },
  {
   "cell_type": "code",
   "execution_count": null,
   "id": "searching-somalia",
   "metadata": {},
   "outputs": [],
   "source": [
    "t = np.arange(1,12)\n",
    "selection = (t>5)   # on construit un vecteur de booléens définissant la sélection (masque)\n",
    "res = t[selection]  # on filtre les éléments correspondant à la sélection\n",
    "print(t)\n",
    "print(selection)\n",
    "print(res)"
   ]
  },
  {
   "cell_type": "markdown",
   "id": "executed-thread",
   "metadata": {},
   "source": [
    "L'utilisation d'opérateurs booléens (`&`, `|`, `==`, `!=`) facilite la sélection d'éléments sur la base de conditions plus complexes\n",
    "\n",
    "Exemple :"
   ]
  },
  {
   "cell_type": "code",
   "execution_count": null,
   "id": "posted-opera",
   "metadata": {},
   "outputs": [],
   "source": [
    "t = np.array([[1, 2, 3], [4, 5, 6], [7, 8, 9]])\n",
    "print(t[t < 5])         # renvoie le vecteur des éléments de t plus petits que 5\n",
    "print(t[t%2==0])        # renvoie le vecteur des éléments pairs de t\n",
    "print(t[t%3!=0])        # renvoie le vecteur des éléments de t qui ne sont pas divisibles par 3\n",
    "print(t[(t>2) & (t<6)]) # renvoie le vecteur des éléments de t dans l'intervalle ]2,6["
   ]
  },
  {
   "cell_type": "markdown",
   "id": "brown-provider",
   "metadata": {},
   "source": [
    "### Exercice 3 : les années bissextiles\n",
    "\n",
    "Une année est bissextile si elle est divisible par 4 mais pas par 100 ou si elle est divisible par 400 (*ex. 1900 n'était pas bissextile mais 2000 l'était*).\n",
    "\n",
    "Combien y-a-t'il eu d'années bissextiles depuis l'an 0?"
   ]
  },
  {
   "cell_type": "code",
   "execution_count": null,
   "id": "boxed-response",
   "metadata": {},
   "outputs": [],
   "source": []
  },
  {
   "cell_type": "markdown",
   "id": "937a8be5",
   "metadata": {},
   "source": [
    "### Exercice 4 : simulation de notes\n",
    "\n",
    "On souhaite constuire une simulation des moyennes aux 6 compétences d'un semestre du BUT pour 5 étudiants. Les moyennes sont générées à partir de distributions normales ${\\cal N}(10,7)$.\n",
    "Faire en sorte que toutes les notes supérieures à 20 (resp. inférieures à 0) soient modifiées en 20 (resp. 0)."
   ]
  },
  {
   "cell_type": "code",
   "execution_count": null,
   "id": "38c44954",
   "metadata": {},
   "outputs": [],
   "source": []
  },
  {
   "cell_type": "markdown",
   "id": "00de5706",
   "metadata": {},
   "source": [
    "### Exercice 5 : image et tableau NumPy\n",
    "\n",
    "Une image peut être chargée dans un tableau NumPy où chaque valeur du tableau contient l'intensité d'un pixel (entier entre 0 et 255) :\n",
    "- une image en noir et blanc de 500 x 1000 pixels sera stockée dans une matrice de *shape* (500, 1000) où chaque valeur correspond au niveau de gris d'un pixel (0 = pixel noir, 255 = pixel blanc)\n",
    "\n",
    "- une image en couleur de 500 x 1000 pixels sera stockée dans un tenseur de *shape* (500, 1000, 3) composé de 3 matrices (500, 1000) chacune définissant l'intensité des pixels selon une couleur (<font color='red'>R*ed*</font>, <font color='green'>G*reen*</font>, <font color='blue'>B*lue*</font>).\n",
    "\n",
    "Le code suivant permet de charger un tableau NumPy contenant les niveaux de gris des pixels d'une image puis de l'afficher :\n"
   ]
  },
  {
   "cell_type": "code",
   "execution_count": null,
   "id": "16cc2cb5",
   "metadata": {},
   "outputs": [],
   "source": [
    "image = np.load('images/logo.npy')\n",
    "plt.imshow(image, cmap=plt.cm.gray)\n",
    "plt.show()"
   ]
  },
  {
   "cell_type": "markdown",
   "id": "c390e101",
   "metadata": {},
   "source": [
    "Votre travail consiste à modifier cette image de sorte à :\n",
    "1. zoomer sur le logo (supprimer le cadre extérieur blanc)\n",
    "2. faire ressortir (en noir) la partie \"informatique\"\n",
    "3. remettre le logo dans le bon sens"
   ]
  },
  {
   "cell_type": "code",
   "execution_count": null,
   "id": "4eced7e8",
   "metadata": {},
   "outputs": [],
   "source": []
  }
 ],
 "metadata": {
  "kernelspec": {
   "display_name": "Python 3",
   "language": "python",
   "name": "python3"
  },
  "language_info": {
   "codemirror_mode": {
    "name": "ipython",
    "version": 3
   },
   "file_extension": ".py",
   "mimetype": "text/x-python",
   "name": "python",
   "nbconvert_exporter": "python",
   "pygments_lexer": "ipython3",
   "version": "3.9.13"
  },
  "vscode": {
   "interpreter": {
    "hash": "aee8b7b246df8f9039afb4144a1f6fd8d2ca17a180786b69acc140d282b71a49"
   }
  }
 },
 "nbformat": 4,
 "nbformat_minor": 5
}
